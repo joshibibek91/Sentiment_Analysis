{
 "cells": [
  {
   "cell_type": "code",
   "execution_count": 1,
   "metadata": {
    "colab": {
     "base_uri": "https://localhost:8080/"
    },
    "id": "qvuFMfBs53kk",
    "outputId": "3dd184fc-e82c-4181-9d84-9bd3a6401681"
   },
   "outputs": [
    {
     "name": "stderr",
     "output_type": "stream",
     "text": [
      "[nltk_data] Downloading package stopwords to\n",
      "[nltk_data]     C:\\Users\\14696\\AppData\\Roaming\\nltk_data...\n",
      "[nltk_data]   Package stopwords is already up-to-date!\n"
     ]
    }
   ],
   "source": [
    "#Importing the packags\n",
    "# pip install --user -U nltk\n",
    "# pip install -U scikit-learn\n",
    "\n",
    "import numpy as np\n",
    "import pandas as pd\n",
    "import re,string\n",
    "import matplotlib.pyplot as plt\n",
    "from nltk.corpus import stopwords\n",
    "from nltk.stem import PorterStemmer\n",
    "from sklearn.feature_extraction.text import TfidfVectorizer\n",
    "from sklearn.pipeline import Pipeline\n",
    "from sklearn.metrics import classification_report, confusion_matrix\n",
    "from sklearn.model_selection import train_test_split\n",
    "from sklearn.feature_selection import SelectKBest, chi2\n",
    "import pickle\n",
    "import nltk\n",
    "nltk.download('stopwords')\n",
    "%matplotlib inline"
   ]
  },
  {
   "cell_type": "code",
   "execution_count": 2,
   "metadata": {},
   "outputs": [
    {
     "name": "stdout",
     "output_type": "stream",
     "text": [
      "Requirement already satisfied: scikit-learn in c:\\users\\14696\\appdata\\local\\programs\\python\\python311\\lib\\site-packages (1.7.2)\n",
      "Requirement already satisfied: numpy>=1.22.0 in c:\\users\\14696\\appdata\\local\\programs\\python\\python311\\lib\\site-packages (from scikit-learn) (2.2.4)\n",
      "Requirement already satisfied: scipy>=1.8.0 in c:\\users\\14696\\appdata\\local\\programs\\python\\python311\\lib\\site-packages (from scikit-learn) (1.15.2)\n",
      "Requirement already satisfied: joblib>=1.2.0 in c:\\users\\14696\\appdata\\local\\programs\\python\\python311\\lib\\site-packages (from scikit-learn) (1.4.2)\n",
      "Requirement already satisfied: threadpoolctl>=3.1.0 in c:\\users\\14696\\appdata\\local\\programs\\python\\python311\\lib\\site-packages (from scikit-learn) (3.6.0)\n",
      "Note: you may need to restart the kernel to use updated packages.\n"
     ]
    },
    {
     "name": "stderr",
     "output_type": "stream",
     "text": [
      "\n",
      "[notice] A new release of pip is available: 24.0 -> 25.2\n",
      "[notice] To update, run: python.exe -m pip install --upgrade pip\n"
     ]
    }
   ],
   "source": [
    "pip install -U scikit-learn"
   ]
  },
  {
   "cell_type": "markdown",
   "metadata": {
    "id": "WSmqpMT3onW3"
   },
   "source": []
  },
  {
   "cell_type": "code",
   "execution_count": 2,
   "metadata": {
    "colab": {
     "base_uri": "https://localhost:8080/",
     "height": 423
    },
    "id": "BAtLnUFL6emp",
    "outputId": "9c29b2d3-b4e3-4b08-fa63-df45d39680e2"
   },
   "outputs": [
    {
     "data": {
      "text/html": [
       "<div>\n",
       "<style scoped>\n",
       "    .dataframe tbody tr th:only-of-type {\n",
       "        vertical-align: middle;\n",
       "    }\n",
       "\n",
       "    .dataframe tbody tr th {\n",
       "        vertical-align: top;\n",
       "    }\n",
       "\n",
       "    .dataframe thead th {\n",
       "        text-align: right;\n",
       "    }\n",
       "</style>\n",
       "<table border=\"1\" class=\"dataframe\">\n",
       "  <thead>\n",
       "    <tr style=\"text-align: right;\">\n",
       "      <th></th>\n",
       "      <th>Unnamed: 0</th>\n",
       "      <th>text</th>\n",
       "      <th>label</th>\n",
       "    </tr>\n",
       "  </thead>\n",
       "  <tbody>\n",
       "    <tr>\n",
       "      <th>26981</th>\n",
       "      <td>30175</td>\n",
       "      <td>family guy hilarious long feel like lost sharp...</td>\n",
       "      <td>1</td>\n",
       "    </tr>\n",
       "    <tr>\n",
       "      <th>17357</th>\n",
       "      <td>18958</td>\n",
       "      <td>old high school teacher mine used brag seen ev...</td>\n",
       "      <td>0</td>\n",
       "    </tr>\n",
       "    <tr>\n",
       "      <th>30451</th>\n",
       "      <td>16369</td>\n",
       "      <td>must say, thought seen all. extremely jaded mo...</td>\n",
       "      <td>1</td>\n",
       "    </tr>\n",
       "    <tr>\n",
       "      <th>14959</th>\n",
       "      <td>38784</td>\n",
       "      <td>absolutely love show, saw second episode first...</td>\n",
       "      <td>1</td>\n",
       "    </tr>\n",
       "    <tr>\n",
       "      <th>24427</th>\n",
       "      <td>24545</td>\n",
       "      <td>watched film really enjoyed gregory's girl man...</td>\n",
       "      <td>0</td>\n",
       "    </tr>\n",
       "    <tr>\n",
       "      <th>...</th>\n",
       "      <td>...</td>\n",
       "      <td>...</td>\n",
       "      <td>...</td>\n",
       "    </tr>\n",
       "    <tr>\n",
       "      <th>33673</th>\n",
       "      <td>9519</td>\n",
       "      <td>miserable people done everything complain dial...</td>\n",
       "      <td>1</td>\n",
       "    </tr>\n",
       "    <tr>\n",
       "      <th>31724</th>\n",
       "      <td>12809</td>\n",
       "      <td>movie all. classic depiction events surrounded...</td>\n",
       "      <td>1</td>\n",
       "    </tr>\n",
       "    <tr>\n",
       "      <th>10033</th>\n",
       "      <td>22157</td>\n",
       "      <td>going say first given film 3 10 thought. going...</td>\n",
       "      <td>0</td>\n",
       "    </tr>\n",
       "    <tr>\n",
       "      <th>29441</th>\n",
       "      <td>38990</td>\n",
       "      <td>like arnold, love subject matter, disappointin...</td>\n",
       "      <td>0</td>\n",
       "    </tr>\n",
       "    <tr>\n",
       "      <th>34210</th>\n",
       "      <td>2262</td>\n",
       "      <td>never thought see movie worse \"lisa picard fam...</td>\n",
       "      <td>0</td>\n",
       "    </tr>\n",
       "  </tbody>\n",
       "</table>\n",
       "<p>40000 rows × 3 columns</p>\n",
       "</div>"
      ],
      "text/plain": [
       "      Unnamed: 0                                               text label\n",
       "26981      30175  family guy hilarious long feel like lost sharp...     1\n",
       "17357      18958  old high school teacher mine used brag seen ev...     0\n",
       "30451      16369  must say, thought seen all. extremely jaded mo...     1\n",
       "14959      38784  absolutely love show, saw second episode first...     1\n",
       "24427      24545  watched film really enjoyed gregory's girl man...     0\n",
       "...          ...                                                ...   ...\n",
       "33673       9519  miserable people done everything complain dial...     1\n",
       "31724      12809  movie all. classic depiction events surrounded...     1\n",
       "10033      22157  going say first given film 3 10 thought. going...     0\n",
       "29441      38990  like arnold, love subject matter, disappointin...     0\n",
       "34210       2262  never thought see movie worse \"lisa picard fam...     0\n",
       "\n",
       "[40000 rows x 3 columns]"
      ]
     },
     "execution_count": 2,
     "metadata": {},
     "output_type": "execute_result"
    }
   ],
   "source": [
    "df = pd.read_csv('movie.csv').astype(str)\n",
    "df = df.sample(frac = 1)\n",
    "df"
   ]
  },
  {
   "cell_type": "code",
   "execution_count": 3,
   "metadata": {
    "colab": {
     "base_uri": "https://localhost:8080/",
     "height": 272
    },
    "id": "G7c8rULu8LQZ",
    "outputId": "b836fbc5-9f23-4ce0-ade6-e64e52783349"
   },
   "outputs": [
    {
     "data": {
      "text/plain": [
       "label\n",
       "0    20019\n",
       "1    19981\n",
       "Name: count, dtype: int64"
      ]
     },
     "execution_count": 3,
     "metadata": {},
     "output_type": "execute_result"
    }
   ],
   "source": [
    "#No of a categories\n",
    "df['label'].value_counts()"
   ]
  },
  {
   "cell_type": "code",
   "execution_count": 4,
   "metadata": {
    "colab": {
     "base_uri": "https://localhost:8080/",
     "height": 535
    },
    "id": "PadVAxI17lgb",
    "outputId": "e5dcb7cd-0f58-4fae-f0c8-5a4538a1c422"
   },
   "outputs": [
    {
     "data": {
      "image/png": "[encoded data removed]",
      "text/plain": [
       "<Figure size 640x480 with 1 Axes>"
      ]
     },
     "metadata": {},
     "output_type": "display_data"
    }
   ],
   "source": [
    "#Analyzing data\n",
    "df['label'].value_counts().plot.bar()\n",
    "plt.show()"
   ]
  },
  {
   "cell_type": "code",
   "execution_count": 5,
   "metadata": {
    "id": "c43wlqTvuf8z"
   },
   "outputs": [],
   "source": [
    "#Data Preprocessing"
   ]
  },
  {
   "cell_type": "code",
   "execution_count": 6,
   "metadata": {
    "colab": {
     "base_uri": "https://localhost:8080/",
     "height": 123
    },
    "id": "aAQIhhdGEGDr",
    "outputId": "655009b5-17ce-430b-d1c7-f6710c23286c"
   },
   "outputs": [
    {
     "data": {
      "text/plain": [
       "\"fan original book expecting see better adaptation natalie portman movie, found awful. version even worse.<br /><br />first, little ms. gregory's book script. whole subplot george boleyn's sexuality completely eliminated version george merely flunky shuttling duty boleyn family duty king. thought title book referred mary lesser-known boleyn sisters, used refer anne.<br /><br />second, script characters periodically address audience confession. apparently intended give bit back story explain motives, amateurish execution.<br /><br />on top bad script, direction stunningly bad. many shots done circling camera none-too-steady best downright shaky worst. several speeches delivered tentatively, first rehearsal. production values henry's flamboyant court minimal. costumes vary: copies historical portraits others costume designer's fevered imagination. king, source power favors, often shown alone. fawning courtiers, servants background - people?? accustomed hollywood turning history fantasy, expected better bbc production. even based flawed book production bad.\""
      ]
     },
     "execution_count": 6,
     "metadata": {},
     "output_type": "execute_result"
    }
   ],
   "source": [
    "df['text'][0]"
   ]
  },
  {
   "cell_type": "code",
   "execution_count": 7,
   "metadata": {
    "colab": {
     "base_uri": "https://localhost:8080/",
     "height": 123
    },
    "id": "ugCn7fzTh-pY",
    "outputId": "5fef5902-6b0a-4ba2-ce42-6e72c2232b20"
   },
   "outputs": [
    {
     "data": {
      "text/plain": [
       "'fan original book expecting see better adaptation natalie portman movie  found awful  version even worse  br    br   first  little ms  gregory s book script  whole subplot george boleyn s sexuality completely eliminated version george merely flunky shuttling duty boleyn family duty king  thought title book referred mary lesser known boleyn sisters  used refer anne  br    br   second  script characters periodically address audience confession  apparently intended give bit back story explain motives  amateurish execution  br    br   on top bad script  direction stunningly bad  many shots done circling camera none too steady best downright shaky worst  several speeches delivered tentatively  first rehearsal  production values henry s flamboyant court minimal  costumes vary  copies historical portraits others costume designer s fevered imagination  king  source power favors  often shown alone  fawning courtiers  servants background   people   accustomed hollywood turning history fantasy  expected better bbc production  even based flawed book production bad '"
      ]
     },
     "execution_count": 7,
     "metadata": {},
     "output_type": "execute_result"
    }
   ],
   "source": [
    "re.sub(\"[^a-zA-Z]\", \" \", df['text'][0].lower())"
   ]
  },
  {
   "cell_type": "code",
   "execution_count": 8,
   "metadata": {
    "colab": {
     "base_uri": "https://localhost:8080/"
    },
    "id": "7RDOg2Vcz0w_",
    "outputId": "8985bee4-a491-48f6-d924-c341749d9119"
   },
   "outputs": [
    {
     "name": "stdout",
     "output_type": "stream",
     "text": [
      "['a', 'about', 'above', 'after', 'again', 'against', 'ain', 'all', 'am', 'an', 'and', 'any', 'are', 'aren', \"aren't\", 'as', 'at', 'be', 'because', 'been', 'before', 'being', 'below', 'between', 'both', 'but', 'by', 'can', 'couldn', \"couldn't\", 'd', 'did', 'didn', \"didn't\", 'do', 'does', 'doesn', \"doesn't\", 'doing', 'don', \"don't\", 'down', 'during', 'each', 'few', 'for', 'from', 'further', 'had', 'hadn', \"hadn't\", 'has', 'hasn', \"hasn't\", 'have', 'haven', \"haven't\", 'having', 'he', \"he'd\", \"he'll\", 'her', 'here', 'hers', 'herself', \"he's\", 'him', 'himself', 'his', 'how', 'i', \"i'd\", 'if', \"i'll\", \"i'm\", 'in', 'into', 'is', 'isn', \"isn't\", 'it', \"it'd\", \"it'll\", \"it's\", 'its', 'itself', \"i've\", 'just', 'll', 'm', 'ma', 'me', 'mightn', \"mightn't\", 'more', 'most', 'mustn', \"mustn't\", 'my', 'myself', 'needn', \"needn't\", 'no', 'nor', 'not', 'now', 'o', 'of', 'off', 'on', 'once', 'only', 'or', 'other', 'our', 'ours', 'ourselves', 'out', 'over', 'own', 're', 's', 'same', 'shan', \"shan't\", 'she', \"she'd\", \"she'll\", \"she's\", 'should', 'shouldn', \"shouldn't\", \"should've\", 'so', 'some', 'such', 't', 'than', 'that', \"that'll\", 'the', 'their', 'theirs', 'them', 'themselves', 'then', 'there', 'these', 'they', \"they'd\", \"they'll\", \"they're\", \"they've\", 'this', 'those', 'through', 'to', 'too', 'under', 'until', 'up', 've', 'very', 'was', 'wasn', \"wasn't\", 'we', \"we'd\", \"we'll\", \"we're\", 'were', 'weren', \"weren't\", \"we've\", 'what', 'when', 'where', 'which', 'while', 'who', 'whom', 'why', 'will', 'with', 'won', \"won't\", 'wouldn', \"wouldn't\", 'y', 'you', \"you'd\", \"you'll\", 'your', \"you're\", 'yours', 'yourself', 'yourselves', \"you've\"]\n"
     ]
    },
    {
     "name": "stderr",
     "output_type": "stream",
     "text": [
      "[nltk_data] Downloading package stopwords to\n",
      "[nltk_data]     C:\\Users\\14696\\AppData\\Roaming\\nltk_data...\n",
      "[nltk_data]   Package stopwords is already up-to-date!\n"
     ]
    }
   ],
   "source": [
    "#stop words\n",
    "nltk.download('stopwords')\n",
    "words = stopwords.words(\"english\")\n",
    "print(words)"
   ]
  },
  {
   "cell_type": "code",
   "execution_count": 9,
   "metadata": {
    "colab": {
     "base_uri": "https://localhost:8080/",
     "height": 36
    },
    "id": "bQU9V9SN1yUy",
    "outputId": "75a82980-cb8d-493b-dbbf-33c33fe04386"
   },
   "outputs": [
    {
     "data": {
      "text/plain": [
       "'i am love comput i love comput'"
      ]
     },
     "execution_count": 9,
     "metadata": {},
     "output_type": "execute_result"
    }
   ],
   "source": [
    "# Data Cleaning using stemmer (only to understand)\n",
    "\n",
    "stemmer = PorterStemmer()\n",
    "data = \"I am loving computing I love computers\".split()\n",
    "data = \" \".join([stemmer.stem(i) for i in data])\n",
    "# stemmer.stem(\"\")\n",
    "data"
   ]
  },
  {
   "cell_type": "code",
   "execution_count": 10,
   "metadata": {
    "id": "mZPU9uU5fr2I"
   },
   "outputs": [],
   "source": [
    "# Data Cleaning removing stopwords"
   ]
  },
  {
   "cell_type": "code",
   "execution_count": 11,
   "metadata": {
    "colab": {
     "base_uri": "https://localhost:8080/",
     "height": 123
    },
    "id": "jbzAnVHd4pfD",
    "outputId": "c196ac90-bbbc-49e0-c980-366f4506541a"
   },
   "outputs": [
    {
     "data": {
      "text/plain": [
       "\"fan origin book expect see better adapt natali portman movie, found awful. version even worse.<br /><br />first, littl ms. gregory' book script. whole subplot georg boleyn' sexual complet elimin version georg mere flunki shuttl duti boleyn famili duti king. thought titl book refer mari lesser-known boleyn sisters, use refer anne.<br /><br />second, script charact period address audienc confession. appar intend give bit back stori explain motives, amateurish execution.<br /><br />on top bad script, direct stunningli bad. mani shot done circl camera none-too-steadi best downright shaki worst. sever speech deliv tentatively, first rehearsal. product valu henry' flamboy court minimal. costum vary: copi histor portrait other costum designer' fever imagination. king, sourc power favors, often shown alone. fawn courtiers, servant background - people?? accustom hollywood turn histori fantasy, expect better bbc production. even base flaw book product bad.\""
      ]
     },
     "execution_count": 11,
     "metadata": {},
     "output_type": "execute_result"
    }
   ],
   "source": [
    "\" \".join([stemmer.stem(i) for i in df['text'][0].split()])\n"
   ]
  },
  {
   "cell_type": "code",
   "execution_count": 12,
   "metadata": {
    "colab": {
     "base_uri": "https://localhost:8080/",
     "height": 123
    },
    "id": "DrpoBfnz7zkH",
    "outputId": "d7472002-3363-42b9-9486-3cd6db374d64"
   },
   "outputs": [
    {
     "data": {
      "text/plain": [
       "\"fan original book expecting see better adaptation natalie portman movie, found awful. version even worse.<br /><br />first, little ms. gregory's book script. whole subplot george boleyn's sexuality completely eliminated version george merely flunky shuttling duty boleyn family duty king. thought title book referred mary lesser-known boleyn sisters, used refer anne.<br /><br />second, script characters periodically address audience confession. apparently intended give bit back story explain motives, amateurish execution.<br /><br />on top bad script, direction stunningly bad. many shots done circling camera none-too-steady best downright shaky worst. several speeches delivered tentatively, first rehearsal. production values henry's flamboyant court minimal. costumes vary: copies historical portraits others costume designer's fevered imagination. king, source power favors, often shown alone. fawning courtiers, servants background - people?? accustomed hollywood turning history fantasy, expected better bbc production. even based flawed book production bad.\""
      ]
     },
     "execution_count": 12,
     "metadata": {},
     "output_type": "execute_result"
    }
   ],
   "source": [
    "\" \".join([i for i in df['text'][0].split() if i not in words])"
   ]
  },
  {
   "cell_type": "code",
   "execution_count": 13,
   "metadata": {
    "id": "3THPZwgVoZ8n"
   },
   "outputs": [],
   "source": [
    "# list(map(lambda <argument>:<operations>, l))"
   ]
  },
  {
   "cell_type": "code",
   "execution_count": 14,
   "metadata": {
    "colab": {
     "base_uri": "https://localhost:8080/",
     "height": 140
    },
    "id": "8iBXfOfoFvaF",
    "outputId": "600c207d-6d50-411f-f1be-a57ba036ffd4"
   },
   "outputs": [
    {
     "data": {
      "text/plain": [
       "'one best films seen last years.belmonndo deneuve shine respective roles, naive plantation owner enigmatic trickster.words masterpiece justice,suffice say movie explores darker side love pain,humiliation capacity self-delusion go it, although dressed film noir. forget feeble remake jolie banderas, see genuine artticle instead treat moments great cinematic beauty.'"
      ]
     },
     "execution_count": 14,
     "metadata": {},
     "output_type": "execute_result"
    }
   ],
   "source": [
    "# Doing all cleaning process using regex, stemmer, stopwords for all data\n",
    "\n",
    "\n",
    "df['text'] = list(map(lambda x: \" \".join([i for i in x.lower().split() if i not in words]), df['text']))\n",
    "\n",
    "df['text'][1250]"
   ]
  },
  {
   "cell_type": "code",
   "execution_count": 18,
   "metadata": {
    "id": "8fzgwwiH0nGA"
   },
   "outputs": [],
   "source": [
    "df.to_csv('cleaned_movie.csv')"
   ]
  },
  {
   "cell_type": "code",
   "execution_count": 19,
   "metadata": {
    "colab": {
     "base_uri": "https://localhost:8080/",
     "height": 423
    },
    "id": "76wP0Gl7s-Eb",
    "outputId": "bba03baa-c23f-4513-c1ab-9018392ab15c"
   },
   "outputs": [
    {
     "data": {
      "text/html": [
       "<div>\n",
       "<style scoped>\n",
       "    .dataframe tbody tr th:only-of-type {\n",
       "        vertical-align: middle;\n",
       "    }\n",
       "\n",
       "    .dataframe tbody tr th {\n",
       "        vertical-align: top;\n",
       "    }\n",
       "\n",
       "    .dataframe thead th {\n",
       "        text-align: right;\n",
       "    }\n",
       "</style>\n",
       "<table border=\"1\" class=\"dataframe\">\n",
       "  <thead>\n",
       "    <tr style=\"text-align: right;\">\n",
       "      <th></th>\n",
       "      <th>Unnamed: 0</th>\n",
       "      <th>text</th>\n",
       "      <th>label</th>\n",
       "      <th>cleaned</th>\n",
       "    </tr>\n",
       "  </thead>\n",
       "  <tbody>\n",
       "    <tr>\n",
       "      <th>26981</th>\n",
       "      <td>30175</td>\n",
       "      <td>family guy hilarious long feel like lost sharp...</td>\n",
       "      <td>1</td>\n",
       "      <td>famili guy hilari long feel like lost sharp ra...</td>\n",
       "    </tr>\n",
       "    <tr>\n",
       "      <th>17357</th>\n",
       "      <td>18958</td>\n",
       "      <td>old high school teacher mine used brag seen ev...</td>\n",
       "      <td>0</td>\n",
       "      <td>old high school teacher mine use brag seen eve...</td>\n",
       "    </tr>\n",
       "    <tr>\n",
       "      <th>30451</th>\n",
       "      <td>16369</td>\n",
       "      <td>must say, thought seen all. extremely jaded mo...</td>\n",
       "      <td>1</td>\n",
       "      <td>must say thought seen all extrem jade movi buf...</td>\n",
       "    </tr>\n",
       "    <tr>\n",
       "      <th>14959</th>\n",
       "      <td>38784</td>\n",
       "      <td>absolutely love show, saw second episode first...</td>\n",
       "      <td>1</td>\n",
       "      <td>absolut love show saw second episod first watc...</td>\n",
       "    </tr>\n",
       "    <tr>\n",
       "      <th>24427</th>\n",
       "      <td>24545</td>\n",
       "      <td>watched film really enjoyed gregory's girl man...</td>\n",
       "      <td>0</td>\n",
       "      <td>watch film realli enjoy gregori s girl mani ye...</td>\n",
       "    </tr>\n",
       "    <tr>\n",
       "      <th>...</th>\n",
       "      <td>...</td>\n",
       "      <td>...</td>\n",
       "      <td>...</td>\n",
       "      <td>...</td>\n",
       "    </tr>\n",
       "    <tr>\n",
       "      <th>33673</th>\n",
       "      <td>9519</td>\n",
       "      <td>miserable people done everything complain dial...</td>\n",
       "      <td>1</td>\n",
       "      <td>miser peopl done everyth complain dialogu budg...</td>\n",
       "    </tr>\n",
       "    <tr>\n",
       "      <th>31724</th>\n",
       "      <td>12809</td>\n",
       "      <td>movie all. classic depiction events surrounded...</td>\n",
       "      <td>1</td>\n",
       "      <td>movi all classic depict event surround migrat ...</td>\n",
       "    </tr>\n",
       "    <tr>\n",
       "      <th>10033</th>\n",
       "      <td>22157</td>\n",
       "      <td>going say first given film 3 10 thought. going...</td>\n",
       "      <td>0</td>\n",
       "      <td>go say first given film thought go give straig...</td>\n",
       "    </tr>\n",
       "    <tr>\n",
       "      <th>29441</th>\n",
       "      <td>38990</td>\n",
       "      <td>like arnold, love subject matter, disappointin...</td>\n",
       "      <td>0</td>\n",
       "      <td>like arnold love subject matter disappoint mov...</td>\n",
       "    </tr>\n",
       "    <tr>\n",
       "      <th>34210</th>\n",
       "      <td>2262</td>\n",
       "      <td>never thought see movie worse \"lisa picard fam...</td>\n",
       "      <td>0</td>\n",
       "      <td>never thought see movi wors lisa picard famou ...</td>\n",
       "    </tr>\n",
       "  </tbody>\n",
       "</table>\n",
       "<p>40000 rows × 4 columns</p>\n",
       "</div>"
      ],
      "text/plain": [
       "      Unnamed: 0                                               text label  \\\n",
       "26981      30175  family guy hilarious long feel like lost sharp...     1   \n",
       "17357      18958  old high school teacher mine used brag seen ev...     0   \n",
       "30451      16369  must say, thought seen all. extremely jaded mo...     1   \n",
       "14959      38784  absolutely love show, saw second episode first...     1   \n",
       "24427      24545  watched film really enjoyed gregory's girl man...     0   \n",
       "...          ...                                                ...   ...   \n",
       "33673       9519  miserable people done everything complain dial...     1   \n",
       "31724      12809  movie all. classic depiction events surrounded...     1   \n",
       "10033      22157  going say first given film 3 10 thought. going...     0   \n",
       "29441      38990  like arnold, love subject matter, disappointin...     0   \n",
       "34210       2262  never thought see movie worse \"lisa picard fam...     0   \n",
       "\n",
       "                                                 cleaned  \n",
       "26981  famili guy hilari long feel like lost sharp ra...  \n",
       "17357  old high school teacher mine use brag seen eve...  \n",
       "30451  must say thought seen all extrem jade movi buf...  \n",
       "14959  absolut love show saw second episod first watc...  \n",
       "24427  watch film realli enjoy gregori s girl mani ye...  \n",
       "...                                                  ...  \n",
       "33673  miser peopl done everyth complain dialogu budg...  \n",
       "31724  movi all classic depict event surround migrat ...  \n",
       "10033  go say first given film thought go give straig...  \n",
       "29441  like arnold love subject matter disappoint mov...  \n",
       "34210  never thought see movi wors lisa picard famou ...  \n",
       "\n",
       "[40000 rows x 4 columns]"
      ]
     },
     "execution_count": 19,
     "metadata": {},
     "output_type": "execute_result"
    }
   ],
   "source": [
    "stemmer = PorterStemmer()\n",
    "df['cleaned'] = df['text'].apply(lambda x: \" \".join([stemmer.stem(i) for i in re.sub(\"[^a-zA-Z]\", \" \", x).split() ]).lower())\n",
    "df"
   ]
  },
  {
   "cell_type": "code",
   "execution_count": null,
   "metadata": {
    "id": "rpyZb6DBr0yS"
   },
   "outputs": [],
   "source": [
    "# print(words)"
   ]
  },
  {
   "cell_type": "code",
   "execution_count": null,
   "metadata": {
    "id": "9QpxBwUMvFrW"
   },
   "outputs": [],
   "source": [
    "# words = stopwords.words(\"nepali\")\n",
    "# words"
   ]
  },
  {
   "cell_type": "code",
   "execution_count": null,
   "metadata": {
    "id": "e7YQAi-Asdy2"
   },
   "outputs": [],
   "source": [
    "# #for all steaming,stopword,regex\n",
    "# df['cleaned'] = df['text'].apply(lambda x: \" \".join([stemmer.stem(i) for i in re.sub(\"[^a-zA-Z]\", \" \", x).split() if i not in words]).lower())\n",
    "# df"
   ]
  },
  {
   "cell_type": "code",
   "execution_count": 20,
   "metadata": {
    "id": "qunZeGdV_GLj"
   },
   "outputs": [],
   "source": [
    "# Training model\n",
    "from sklearn.linear_model import LogisticRegression\n",
    "log_regression = LogisticRegression()\n",
    "\n",
    "vectorizer = TfidfVectorizer()\n"
   ]
  },
  {
   "cell_type": "code",
   "execution_count": 21,
   "metadata": {
    "id": "9QohUEpiqBfn"
   },
   "outputs": [],
   "source": [
    "X = df['cleaned']\n",
    "Y = df['label'].astype('str')\n",
    "\n",
    "X_train, X_test, y_train, y_test = train_test_split(X, Y, test_size=0.15) #Splitting dataset\n",
    "\n",
    "\n",
    "# #Creating Pipeline\n",
    "pipeline = Pipeline([('vect', vectorizer),\n",
    "                     ('chi',  SelectKBest(chi2, k=5000)),\n",
    "                     ('clf', LogisticRegression())])\n",
    "\n",
    "\n",
    "# #Training model\n",
    "model = pipeline.fit(X_train, y_train)\n",
    "\n",
    "# #Creating pickle file\n",
    "with open('LogisticRegression.pickle', 'wb') as f:\n",
    "    pickle.dump(model, f)"
   ]
  },
  {
   "cell_type": "code",
   "execution_count": 22,
   "metadata": {
    "colab": {
     "base_uri": "https://localhost:8080/",
     "height": 458
    },
    "id": "gSyRFPq-duso",
    "outputId": "6654e467-806d-4998-c901-c2e2d7e43cc6"
   },
   "outputs": [
    {
     "data": {
      "text/plain": [
       "38229    shazam okay hero high favorit kid mean sky hig...\n",
       "11726    would legitim actor read script particip piec ...\n",
       "13490    difficult compet classic great make choic deci...\n",
       "11484    look page seem disapprov listen someon rambl r...\n",
       "8117     movi humor charm easili becom favorit enjoy li...\n",
       "                               ...                        \n",
       "11127    bad entri seri heavili ladl war propaganda rat...\n",
       "7288     third comment attempt connect two legendari mo...\n",
       "31633    anim serious rock sock anim first open itself ...\n",
       "22489    bela lagosi s best movi got good old style app...\n",
       "3091     desper find happen twitch origin movi here cha...\n",
       "Name: cleaned, Length: 6000, dtype: object"
      ]
     },
     "execution_count": 22,
     "metadata": {},
     "output_type": "execute_result"
    }
   ],
   "source": [
    "X_test"
   ]
  },
  {
   "cell_type": "code",
   "execution_count": 23,
   "metadata": {
    "colab": {
     "base_uri": "https://localhost:8080/",
     "height": 458
    },
    "id": "GBpFpej76bMT",
    "outputId": "b3e6a0f0-64f9-4296-85a6-dd45b82c68af"
   },
   "outputs": [
    {
     "data": {
      "text/plain": [
       "38229    1\n",
       "11726    0\n",
       "13490    0\n",
       "11484    1\n",
       "8117     1\n",
       "        ..\n",
       "11127    1\n",
       "7288     1\n",
       "31633    1\n",
       "22489    1\n",
       "3091     0\n",
       "Name: label, Length: 6000, dtype: object"
      ]
     },
     "execution_count": 23,
     "metadata": {},
     "output_type": "execute_result"
    }
   ],
   "source": [
    "y_test"
   ]
  },
  {
   "cell_type": "code",
   "execution_count": 24,
   "metadata": {
    "colab": {
     "base_uri": "https://localhost:8080/"
    },
    "id": "aAZIfQmWIlP1",
    "outputId": "1f54dd02-7db9-4421-d24d-08517279dfc9"
   },
   "outputs": [
    {
     "name": "stdout",
     "output_type": "stream",
     "text": [
      "0.8853333333333333\n"
     ]
    }
   ],
   "source": [
    "#Test Accuracy\n",
    "from sklearn.metrics import accuracy_score\n",
    "predict_news_cat = model.predict(X_test)\n",
    "# print(predict_news_cat)\n",
    "print(accuracy_score(y_test,predict_news_cat))\n",
    "# print('\\n')\n",
    "# print(predict_news_cat)"
   ]
  },
  {
   "cell_type": "code",
   "execution_count": 25,
   "metadata": {
    "colab": {
     "base_uri": "https://localhost:8080/"
    },
    "id": "FDKoG9IkEr4D",
    "outputId": "319c98fb-2c1b-40da-9cba-3237a05bb72f"
   },
   "outputs": [
    {
     "name": "stdout",
     "output_type": "stream",
     "text": [
      "0.9036470588235294\n"
     ]
    }
   ],
   "source": [
    "#Train Accuracy\n",
    "from sklearn.metrics import accuracy_score\n",
    "predict_news_cat = model.predict(X_train)\n",
    "# print(predict_news_cat)\n",
    "print(accuracy_score(y_train,predict_news_cat))\n",
    "# print('\\n')\n",
    "# print(predict_news_cat)"
   ]
  },
  {
   "cell_type": "code",
   "execution_count": 31,
   "metadata": {
    "colab": {
     "base_uri": "https://localhost:8080/"
    },
    "id": "5S-Fnbr-DT65",
    "outputId": "359aa233-ed56-4b4e-c59f-c3cb94f49f7a"
   },
   "outputs": [
    {
     "name": "stdin",
     "output_type": "stream",
     "text": [
      "Enter news =  2\n"
     ]
    },
    {
     "name": "stdout",
     "output_type": "stream",
     "text": [
      "Predicted news category =  1\n"
     ]
    }
   ],
   "source": [
    "# file = open('/content/news.txt','r')\n",
    "# news = file.read()\n",
    "# file.close()\n",
    "\n",
    "news = input(\"Enter news = \")\n",
    "news_data = {'predict_news':[news]}\n",
    "news_data_df = pd.DataFrame(news_data)\n",
    "news_data_df['predict_news'] = list(map(lambda x: \" \".join([i for i in x.lower().split() if i not in words]), news_data_df['predict_news']))\n",
    "news_data_df['predict_news'] = news_data_df['predict_news'].apply(lambda x: \" \".join([stemmer.stem(i) for i in re.sub(\"[^a-zA-Z]\", \" \", x).split() if i not in words]).lower())\n",
    "\n",
    "predict_news_cat = model.predict(news_data_df['predict_news'])\n",
    "print(\"Predicted news category = \",predict_news_cat[0])"
   ]
  },
  {
   "cell_type": "code",
   "execution_count": 28,
   "metadata": {
    "colab": {
     "base_uri": "https://localhost:8080/"
    },
    "id": "y24Ctjrm_rpj",
    "outputId": "906304d8-166e-4c7a-948c-ce50fced46fb"
   },
   "outputs": [
    {
     "name": "stdout",
     "output_type": "stream",
     "text": [
      "              precision    recall  f1-score   support\n",
      "\n",
      "           0       0.91      0.86      0.88      3005\n",
      "           1       0.87      0.91      0.89      2995\n",
      "\n",
      "    accuracy                           0.89      6000\n",
      "   macro avg       0.89      0.89      0.89      6000\n",
      "weighted avg       0.89      0.89      0.89      6000\n",
      "\n",
      "[[2584  421]\n",
      " [ 267 2728]]\n"
     ]
    }
   ],
   "source": [
    "# confusion matrix and classification report(precision, recall, F1-score)\n",
    "ytest = np.array(y_test)\n",
    "print(classification_report(ytest,model.predict(X_test)))\n",
    "print(confusion_matrix(ytest,model.predict(X_test)))"
   ]
  },
  {
   "cell_type": "code",
   "execution_count": 29,
   "metadata": {
    "colab": {
     "base_uri": "https://localhost:8080/",
     "height": 661
    },
    "id": "0CoGLcdeMxjw",
    "outputId": "32d77f70-0604-4a6b-b328-e2bb94708a53"
   },
   "outputs": [
    {
     "ename": "ValueError",
     "evalue": "The number of FixedLocator locations (2), usually from a call to set_ticks, does not match the number of labels (5).",
     "output_type": "error",
     "traceback": [
      "\u001b[31m---------------------------------------------------------------------------\u001b[39m",
      "\u001b[31mValueError\u001b[39m                                Traceback (most recent call last)",
      "\u001b[36mCell\u001b[39m\u001b[36m \u001b[39m\u001b[32mIn[29]\u001b[39m\u001b[32m, line 17\u001b[39m\n\u001b[32m     13\u001b[39m ax.set(title=\u001b[33m'\u001b[39m\u001b[33mConfusion Matrix for the  Text Classification Model\u001b[39m\u001b[33m'\u001b[39m)\n\u001b[32m     15\u001b[39m \u001b[38;5;66;03m# show the plot.\u001b[39;00m\n\u001b[32m     16\u001b[39m \u001b[38;5;66;03m# Pass the parameter ax to show customizations (ex. title)\u001b[39;00m\n\u001b[32m---> \u001b[39m\u001b[32m17\u001b[39m \u001b[43mdisplay\u001b[49m\u001b[43m.\u001b[49m\u001b[43mplot\u001b[49m\u001b[43m(\u001b[49m\u001b[43max\u001b[49m\u001b[43m=\u001b[49m\u001b[43max\u001b[49m\u001b[43m)\u001b[49m;\n",
      "\u001b[36mFile \u001b[39m\u001b[32m~\\AppData\\Local\\Programs\\Python\\Python311\\Lib\\site-packages\\sklearn\\metrics\\_plot\\confusion_matrix.py:188\u001b[39m, in \u001b[36mConfusionMatrixDisplay.plot\u001b[39m\u001b[34m(self, include_values, cmap, xticks_rotation, values_format, ax, colorbar, im_kw, text_kw)\u001b[39m\n\u001b[32m    186\u001b[39m \u001b[38;5;28;01mif\u001b[39;00m colorbar:\n\u001b[32m    187\u001b[39m     fig.colorbar(\u001b[38;5;28mself\u001b[39m.im_, ax=ax)\n\u001b[32m--> \u001b[39m\u001b[32m188\u001b[39m \u001b[43max\u001b[49m\u001b[43m.\u001b[49m\u001b[43mset\u001b[49m\u001b[43m(\u001b[49m\n\u001b[32m    189\u001b[39m \u001b[43m    \u001b[49m\u001b[43mxticks\u001b[49m\u001b[43m=\u001b[49m\u001b[43mnp\u001b[49m\u001b[43m.\u001b[49m\u001b[43marange\u001b[49m\u001b[43m(\u001b[49m\u001b[43mn_classes\u001b[49m\u001b[43m)\u001b[49m\u001b[43m,\u001b[49m\n\u001b[32m    190\u001b[39m \u001b[43m    \u001b[49m\u001b[43myticks\u001b[49m\u001b[43m=\u001b[49m\u001b[43mnp\u001b[49m\u001b[43m.\u001b[49m\u001b[43marange\u001b[49m\u001b[43m(\u001b[49m\u001b[43mn_classes\u001b[49m\u001b[43m)\u001b[49m\u001b[43m,\u001b[49m\n\u001b[32m    191\u001b[39m \u001b[43m    \u001b[49m\u001b[43mxticklabels\u001b[49m\u001b[43m=\u001b[49m\u001b[43mdisplay_labels\u001b[49m\u001b[43m,\u001b[49m\n\u001b[32m    192\u001b[39m \u001b[43m    \u001b[49m\u001b[43myticklabels\u001b[49m\u001b[43m=\u001b[49m\u001b[43mdisplay_labels\u001b[49m\u001b[43m,\u001b[49m\n\u001b[32m    193\u001b[39m \u001b[43m    \u001b[49m\u001b[43mylabel\u001b[49m\u001b[43m=\u001b[49m\u001b[33;43m\"\u001b[39;49m\u001b[33;43mTrue label\u001b[39;49m\u001b[33;43m\"\u001b[39;49m\u001b[43m,\u001b[49m\n\u001b[32m    194\u001b[39m \u001b[43m    \u001b[49m\u001b[43mxlabel\u001b[49m\u001b[43m=\u001b[49m\u001b[33;43m\"\u001b[39;49m\u001b[33;43mPredicted label\u001b[39;49m\u001b[33;43m\"\u001b[39;49m\u001b[43m,\u001b[49m\n\u001b[32m    195\u001b[39m \u001b[43m\u001b[49m\u001b[43m)\u001b[49m\n\u001b[32m    197\u001b[39m ax.set_ylim((n_classes - \u001b[32m0.5\u001b[39m, -\u001b[32m0.5\u001b[39m))\n\u001b[32m    198\u001b[39m plt.setp(ax.get_xticklabels(), rotation=xticks_rotation)\n",
      "\u001b[36mFile \u001b[39m\u001b[32m~\\AppData\\Local\\Programs\\Python\\Python311\\Lib\\site-packages\\matplotlib\\artist.py:146\u001b[39m, in \u001b[36mArtist.__init_subclass__.<locals>.<lambda>\u001b[39m\u001b[34m(self, **kwargs)\u001b[39m\n\u001b[32m    138\u001b[39m \u001b[38;5;28;01mif\u001b[39;00m \u001b[38;5;129;01mnot\u001b[39;00m \u001b[38;5;28mhasattr\u001b[39m(\u001b[38;5;28mcls\u001b[39m.set, \u001b[33m'\u001b[39m\u001b[33m_autogenerated_signature\u001b[39m\u001b[33m'\u001b[39m):\n\u001b[32m    139\u001b[39m     \u001b[38;5;66;03m# Don't overwrite cls.set if the subclass or one of its parents\u001b[39;00m\n\u001b[32m    140\u001b[39m     \u001b[38;5;66;03m# has defined a set method set itself.\u001b[39;00m\n\u001b[32m    141\u001b[39m     \u001b[38;5;66;03m# If there was no explicit definition, cls.set is inherited from\u001b[39;00m\n\u001b[32m    142\u001b[39m     \u001b[38;5;66;03m# the hierarchy of auto-generated set methods, which hold the\u001b[39;00m\n\u001b[32m    143\u001b[39m     \u001b[38;5;66;03m# flag _autogenerated_signature.\u001b[39;00m\n\u001b[32m    144\u001b[39m     \u001b[38;5;28;01mreturn\u001b[39;00m\n\u001b[32m--> \u001b[39m\u001b[32m146\u001b[39m \u001b[38;5;28mcls\u001b[39m.set = \u001b[38;5;28;01mlambda\u001b[39;00m \u001b[38;5;28mself\u001b[39m, **kwargs: \u001b[43mArtist\u001b[49m\u001b[43m.\u001b[49m\u001b[43mset\u001b[49m\u001b[43m(\u001b[49m\u001b[38;5;28;43mself\u001b[39;49m\u001b[43m,\u001b[49m\u001b[43m \u001b[49m\u001b[43m*\u001b[49m\u001b[43m*\u001b[49m\u001b[43mkwargs\u001b[49m\u001b[43m)\u001b[49m\n\u001b[32m    147\u001b[39m \u001b[38;5;28mcls\u001b[39m.set.\u001b[34m__name__\u001b[39m = \u001b[33m\"\u001b[39m\u001b[33mset\u001b[39m\u001b[33m\"\u001b[39m\n\u001b[32m    148\u001b[39m \u001b[38;5;28mcls\u001b[39m.set.\u001b[34m__qualname__\u001b[39m = \u001b[33mf\u001b[39m\u001b[33m\"\u001b[39m\u001b[38;5;132;01m{\u001b[39;00m\u001b[38;5;28mcls\u001b[39m.\u001b[34m__qualname__\u001b[39m\u001b[38;5;132;01m}\u001b[39;00m\u001b[33m.set\u001b[39m\u001b[33m\"\u001b[39m\n",
      "\u001b[36mFile \u001b[39m\u001b[32m~\\AppData\\Local\\Programs\\Python\\Python311\\Lib\\site-packages\\matplotlib\\artist.py:1241\u001b[39m, in \u001b[36mArtist.set\u001b[39m\u001b[34m(self, **kwargs)\u001b[39m\n\u001b[32m   1237\u001b[39m \u001b[38;5;28;01mdef\u001b[39;00m\u001b[38;5;250m \u001b[39m\u001b[34mset\u001b[39m(\u001b[38;5;28mself\u001b[39m, **kwargs):\n\u001b[32m   1238\u001b[39m     \u001b[38;5;66;03m# docstring and signature are auto-generated via\u001b[39;00m\n\u001b[32m   1239\u001b[39m     \u001b[38;5;66;03m# Artist._update_set_signature_and_docstring() at the end of the\u001b[39;00m\n\u001b[32m   1240\u001b[39m     \u001b[38;5;66;03m# module.\u001b[39;00m\n\u001b[32m-> \u001b[39m\u001b[32m1241\u001b[39m     \u001b[38;5;28;01mreturn\u001b[39;00m \u001b[38;5;28;43mself\u001b[39;49m\u001b[43m.\u001b[49m\u001b[43m_internal_update\u001b[49m\u001b[43m(\u001b[49m\u001b[43mcbook\u001b[49m\u001b[43m.\u001b[49m\u001b[43mnormalize_kwargs\u001b[49m\u001b[43m(\u001b[49m\u001b[43mkwargs\u001b[49m\u001b[43m,\u001b[49m\u001b[43m \u001b[49m\u001b[38;5;28;43mself\u001b[39;49m\u001b[43m)\u001b[49m\u001b[43m)\u001b[49m\n",
      "\u001b[36mFile \u001b[39m\u001b[32m~\\AppData\\Local\\Programs\\Python\\Python311\\Lib\\site-packages\\matplotlib\\artist.py:1233\u001b[39m, in \u001b[36mArtist._internal_update\u001b[39m\u001b[34m(self, kwargs)\u001b[39m\n\u001b[32m   1226\u001b[39m \u001b[38;5;28;01mdef\u001b[39;00m\u001b[38;5;250m \u001b[39m\u001b[34m_internal_update\u001b[39m(\u001b[38;5;28mself\u001b[39m, kwargs):\n\u001b[32m   1227\u001b[39m \u001b[38;5;250m    \u001b[39m\u001b[33;03m\"\"\"\u001b[39;00m\n\u001b[32m   1228\u001b[39m \u001b[33;03m    Update artist properties without prenormalizing them, but generating\u001b[39;00m\n\u001b[32m   1229\u001b[39m \u001b[33;03m    errors as if calling `set`.\u001b[39;00m\n\u001b[32m   1230\u001b[39m \n\u001b[32m   1231\u001b[39m \u001b[33;03m    The lack of prenormalization is to maintain backcompatibility.\u001b[39;00m\n\u001b[32m   1232\u001b[39m \u001b[33;03m    \"\"\"\u001b[39;00m\n\u001b[32m-> \u001b[39m\u001b[32m1233\u001b[39m     \u001b[38;5;28;01mreturn\u001b[39;00m \u001b[38;5;28;43mself\u001b[39;49m\u001b[43m.\u001b[49m\u001b[43m_update_props\u001b[49m\u001b[43m(\u001b[49m\n\u001b[32m   1234\u001b[39m \u001b[43m        \u001b[49m\u001b[43mkwargs\u001b[49m\u001b[43m,\u001b[49m\u001b[43m \u001b[49m\u001b[33;43m\"\u001b[39;49m\u001b[38;5;132;43;01m{cls.__name__}\u001b[39;49;00m\u001b[33;43m.set() got an unexpected keyword argument \u001b[39;49m\u001b[33;43m\"\u001b[39;49m\n\u001b[32m   1235\u001b[39m \u001b[43m        \u001b[49m\u001b[33;43m\"\u001b[39;49m\u001b[38;5;132;43;01m{prop_name!r}\u001b[39;49;00m\u001b[33;43m\"\u001b[39;49m\u001b[43m)\u001b[49m\n",
      "\u001b[36mFile \u001b[39m\u001b[32m~\\AppData\\Local\\Programs\\Python\\Python311\\Lib\\site-packages\\matplotlib\\artist.py:1209\u001b[39m, in \u001b[36mArtist._update_props\u001b[39m\u001b[34m(self, props, errfmt)\u001b[39m\n\u001b[32m   1205\u001b[39m             \u001b[38;5;28;01mif\u001b[39;00m \u001b[38;5;129;01mnot\u001b[39;00m \u001b[38;5;28mcallable\u001b[39m(func):\n\u001b[32m   1206\u001b[39m                 \u001b[38;5;28;01mraise\u001b[39;00m \u001b[38;5;167;01mAttributeError\u001b[39;00m(\n\u001b[32m   1207\u001b[39m                     errfmt.format(\u001b[38;5;28mcls\u001b[39m=\u001b[38;5;28mtype\u001b[39m(\u001b[38;5;28mself\u001b[39m), prop_name=k),\n\u001b[32m   1208\u001b[39m                     name=k)\n\u001b[32m-> \u001b[39m\u001b[32m1209\u001b[39m             ret.append(\u001b[43mfunc\u001b[49m\u001b[43m(\u001b[49m\u001b[43mv\u001b[49m\u001b[43m)\u001b[49m)\n\u001b[32m   1210\u001b[39m \u001b[38;5;28;01mif\u001b[39;00m ret:\n\u001b[32m   1211\u001b[39m     \u001b[38;5;28mself\u001b[39m.pchanged()\n",
      "\u001b[36mFile \u001b[39m\u001b[32m~\\AppData\\Local\\Programs\\Python\\Python311\\Lib\\site-packages\\matplotlib\\axes\\_base.py:74\u001b[39m, in \u001b[36m_axis_method_wrapper.__set_name__.<locals>.wrapper\u001b[39m\u001b[34m(self, *args, **kwargs)\u001b[39m\n\u001b[32m     73\u001b[39m \u001b[38;5;28;01mdef\u001b[39;00m\u001b[38;5;250m \u001b[39m\u001b[34mwrapper\u001b[39m(\u001b[38;5;28mself\u001b[39m, *args, **kwargs):\n\u001b[32m---> \u001b[39m\u001b[32m74\u001b[39m     \u001b[38;5;28;01mreturn\u001b[39;00m \u001b[43mget_method\u001b[49m\u001b[43m(\u001b[49m\u001b[38;5;28;43mself\u001b[39;49m\u001b[43m)\u001b[49m\u001b[43m(\u001b[49m\u001b[43m*\u001b[49m\u001b[43margs\u001b[49m\u001b[43m,\u001b[49m\u001b[43m \u001b[49m\u001b[43m*\u001b[49m\u001b[43m*\u001b[49m\u001b[43mkwargs\u001b[49m\u001b[43m)\u001b[49m\n",
      "\u001b[36mFile \u001b[39m\u001b[32m~\\AppData\\Local\\Programs\\Python\\Python311\\Lib\\site-packages\\matplotlib\\axis.py:2106\u001b[39m, in \u001b[36mAxis.set_ticklabels\u001b[39m\u001b[34m(self, labels, minor, fontdict, **kwargs)\u001b[39m\n\u001b[32m   2102\u001b[39m \u001b[38;5;28;01melif\u001b[39;00m \u001b[38;5;28misinstance\u001b[39m(locator, mticker.FixedLocator):\n\u001b[32m   2103\u001b[39m     \u001b[38;5;66;03m# Passing [] as a list of labels is often used as a way to\u001b[39;00m\n\u001b[32m   2104\u001b[39m     \u001b[38;5;66;03m# remove all tick labels, so only error for > 0 labels\u001b[39;00m\n\u001b[32m   2105\u001b[39m     \u001b[38;5;28;01mif\u001b[39;00m \u001b[38;5;28mlen\u001b[39m(locator.locs) != \u001b[38;5;28mlen\u001b[39m(labels) \u001b[38;5;129;01mand\u001b[39;00m \u001b[38;5;28mlen\u001b[39m(labels) != \u001b[32m0\u001b[39m:\n\u001b[32m-> \u001b[39m\u001b[32m2106\u001b[39m         \u001b[38;5;28;01mraise\u001b[39;00m \u001b[38;5;167;01mValueError\u001b[39;00m(\n\u001b[32m   2107\u001b[39m             \u001b[33m\"\u001b[39m\u001b[33mThe number of FixedLocator locations\u001b[39m\u001b[33m\"\u001b[39m\n\u001b[32m   2108\u001b[39m             \u001b[33mf\u001b[39m\u001b[33m\"\u001b[39m\u001b[33m (\u001b[39m\u001b[38;5;132;01m{\u001b[39;00m\u001b[38;5;28mlen\u001b[39m(locator.locs)\u001b[38;5;132;01m}\u001b[39;00m\u001b[33m), usually from a call to\u001b[39m\u001b[33m\"\u001b[39m\n\u001b[32m   2109\u001b[39m             \u001b[33m\"\u001b[39m\u001b[33m set_ticks, does not match\u001b[39m\u001b[33m\"\u001b[39m\n\u001b[32m   2110\u001b[39m             \u001b[33mf\u001b[39m\u001b[33m\"\u001b[39m\u001b[33m the number of labels (\u001b[39m\u001b[38;5;132;01m{\u001b[39;00m\u001b[38;5;28mlen\u001b[39m(labels)\u001b[38;5;132;01m}\u001b[39;00m\u001b[33m).\u001b[39m\u001b[33m\"\u001b[39m)\n\u001b[32m   2111\u001b[39m     tickd = {loc: lab \u001b[38;5;28;01mfor\u001b[39;00m loc, lab \u001b[38;5;129;01min\u001b[39;00m \u001b[38;5;28mzip\u001b[39m(locator.locs, labels)}\n\u001b[32m   2112\u001b[39m     func = functools.partial(\u001b[38;5;28mself\u001b[39m._format_with_dict, tickd)\n",
      "\u001b[31mValueError\u001b[39m: The number of FixedLocator locations (2), usually from a call to set_ticks, does not match the number of labels (5)."
     ]
    },
    {
     "data": {
      "image/png": "[encoded data removed]",
      "text/plain": [
       "<Figure size 800x800 with 2 Axes>"
      ]
     },
     "metadata": {},
     "output_type": "display_data"
    }
   ],
   "source": [
    "import matplotlib.pyplot as plt\n",
    "from sklearn.metrics import ConfusionMatrixDisplay\n",
    "cm = confusion_matrix(model.predict(X_test),ytest)\n",
    "# Change figure size and increase dpi for better resolution\n",
    "# and get reference to axes object\n",
    "fig, ax = plt.subplots(figsize=(8,8), dpi=100)\n",
    "class_names = ['business','entertainment','politics','sport','tech']\n",
    "# initialize using the raw 2D confusion matrix\n",
    "# and output labels (in our case, it's 0 and 1)\n",
    "display = ConfusionMatrixDisplay(cm, display_labels=class_names)\n",
    "\n",
    "# set the plot title using the axes object\n",
    "ax.set(title='Confusion Matrix for the  Text Classification Model')\n",
    "\n",
    "# show the plot.\n",
    "# Pass the parameter ax to show customizations (ex. title)\n",
    "display.plot(ax=ax);"
   ]
  },
  {
   "cell_type": "code",
   "execution_count": null,
   "metadata": {
    "id": "XAp_K1xWslOW"
   },
   "outputs": [],
   "source": [
    "# vectorizer.vocabulary_"
   ]
  },
  {
   "cell_type": "code",
   "execution_count": null,
   "metadata": {
    "id": "sFDNXYyKIyb_"
   },
   "outputs": [],
   "source": []
  }
 ],
 "metadata": {
  "colab": {
   "provenance": []
  },
  "kernelspec": {
   "display_name": "Python 3 (ipykernel)",
   "language": "python",
   "name": "python3"
  },
  "language_info": {
   "codemirror_mode": {
    "name": "ipython",
    "version": 3
   },
   "file_extension": ".py",
   "mimetype": "text/x-python",
   "name": "python",
   "nbconvert_exporter": "python",
   "pygments_lexer": "ipython3",
   "version": "3.11.3"
  }
 },
 "nbformat": 4,
 "nbformat_minor": 4
}
