{
  "nbformat": 4,
  "nbformat_minor": 0,
  "metadata": {
    "colab": {
      "provenance": []
    },
    "kernelspec": {
      "name": "python3",
      "display_name": "Python 3"
    },
    "language_info": {
      "name": "python"
    }
  },
  "cells": [
    {
      "cell_type": "code",
      "execution_count": null,
      "metadata": {
        "colab": {
          "base_uri": "https://localhost:8080/"
        },
        "id": "qvuFMfBs53kk",
        "outputId": "3dd184fc-e82c-4181-9d84-9bd3a6401681"
      },
      "outputs": [
        {
          "output_type": "stream",
          "name": "stderr",
          "text": [
            "[nltk_data] Downloading package stopwords to /root/nltk_data...\n",
            "[nltk_data]   Package stopwords is already up-to-date!\n"
          ]
        }
      ],
      "source": [
        "#Importing the packags\n",
        "# pip install --user -U nltk\n",
        "# pip install -U scikit-learn\n",
        "\n",
        "import numpy as np\n",
        "import pandas as pd\n",
        "import re,string\n",
        "import matplotlib.pyplot as plt\n",
        "from nltk.corpus import stopwords\n",
        "from nltk.stem import PorterStemmer\n",
        "from sklearn.feature_extraction.text import TfidfVectorizer\n",
        "from sklearn.pipeline import Pipeline\n",
        "from sklearn.metrics import classification_report, confusion_matrix\n",
        "from sklearn.model_selection import train_test_split\n",
        "from sklearn.feature_selection import SelectKBest, chi2\n",
        "import pickle\n",
        "import nltk\n",
        "nltk.download('stopwords')\n",
        "%matplotlib inline"
      ]
    },
    {
      "cell_type": "markdown",
      "source": [],
      "metadata": {
        "id": "WSmqpMT3onW3"
      }
    },
    {
      "cell_type": "code",
      "source": [
        "df = pd.read_csv('/content/bbc-text.csv', encoding = 'latin1').astype(str)\n",
        "df = df.sample(frac = 1)\n",
        "df"
      ],
      "metadata": {
        "colab": {
          "base_uri": "https://localhost:8080/",
          "height": 423
        },
        "id": "BAtLnUFL6emp",
        "outputId": "9c29b2d3-b4e3-4b08-fa63-df45d39680e2"
      },
      "execution_count": null,
      "outputs": [
        {
          "output_type": "execute_result",
          "data": {
            "text/plain": [
              "      category                                               text\n",
              "114      sport  beckham relief as real go through david beckha...\n",
              "504      sport  kerr frustrated at victory margin republic of ...\n",
              "2187     sport  jones files conte lawsuit marion jones has fil...\n",
              "1086  business  shares hit by ms drug suspension shares in ela...\n",
              "2170      tech  games win for blu-ray dvd format the next-gene...\n",
              "...        ...                                                ...\n",
              "2188     sport  mexicans tracking unhappy juninho mexican outf...\n",
              "232      sport  reyes tricked into real admission jose antonio...\n",
              "495   politics  thousands join strike in wales thousands of ci...\n",
              "493   politics  brown outlines third term vision gordon brown ...\n",
              "218   politics  new rules tackle  sham weddings  new rules on ...\n",
              "\n",
              "[2225 rows x 2 columns]"
            ],
            "text/html": [
              "\n",
              "  <div id=\"df-767040ea-77c7-4d9a-a7d0-a1147ad2f570\" class=\"colab-df-container\">\n",
              "    <div>\n",
              "<style scoped>\n",
              "    .dataframe tbody tr th:only-of-type {\n",
              "        vertical-align: middle;\n",
              "    }\n",
              "\n",
              "    .dataframe tbody tr th {\n",
              "        vertical-align: top;\n",
              "    }\n",
              "\n",
              "    .dataframe thead th {\n",
              "        text-align: right;\n",
              "    }\n",
              "</style>\n",
              "<table border=\"1\" class=\"dataframe\">\n",
              "  <thead>\n",
              "    <tr style=\"text-align: right;\">\n",
              "      <th></th>\n",
              "      <th>category</th>\n",
              "      <th>text</th>\n",
              "    </tr>\n",
              "  </thead>\n",
              "  <tbody>\n",
              "    <tr>\n",
              "      <th>114</th>\n",
              "      <td>sport</td>\n",
              "      <td>beckham relief as real go through david beckha...</td>\n",
              "    </tr>\n",
              "    <tr>\n",
              "      <th>504</th>\n",
              "      <td>sport</td>\n",
              "      <td>kerr frustrated at victory margin republic of ...</td>\n",
              "    </tr>\n",
              "    <tr>\n",
              "      <th>2187</th>\n",
              "      <td>sport</td>\n",
              "      <td>jones files conte lawsuit marion jones has fil...</td>\n",
              "    </tr>\n",
              "    <tr>\n",
              "      <th>1086</th>\n",
              "      <td>business</td>\n",
              "      <td>shares hit by ms drug suspension shares in ela...</td>\n",
              "    </tr>\n",
              "    <tr>\n",
              "      <th>2170</th>\n",
              "      <td>tech</td>\n",
              "      <td>games win for blu-ray dvd format the next-gene...</td>\n",
              "    </tr>\n",
              "    <tr>\n",
              "      <th>...</th>\n",
              "      <td>...</td>\n",
              "      <td>...</td>\n",
              "    </tr>\n",
              "    <tr>\n",
              "      <th>2188</th>\n",
              "      <td>sport</td>\n",
              "      <td>mexicans tracking unhappy juninho mexican outf...</td>\n",
              "    </tr>\n",
              "    <tr>\n",
              "      <th>232</th>\n",
              "      <td>sport</td>\n",
              "      <td>reyes tricked into real admission jose antonio...</td>\n",
              "    </tr>\n",
              "    <tr>\n",
              "      <th>495</th>\n",
              "      <td>politics</td>\n",
              "      <td>thousands join strike in wales thousands of ci...</td>\n",
              "    </tr>\n",
              "    <tr>\n",
              "      <th>493</th>\n",
              "      <td>politics</td>\n",
              "      <td>brown outlines third term vision gordon brown ...</td>\n",
              "    </tr>\n",
              "    <tr>\n",
              "      <th>218</th>\n",
              "      <td>politics</td>\n",
              "      <td>new rules tackle  sham weddings  new rules on ...</td>\n",
              "    </tr>\n",
              "  </tbody>\n",
              "</table>\n",
              "<p>2225 rows × 2 columns</p>\n",
              "</div>\n",
              "    <div class=\"colab-df-buttons\">\n",
              "\n",
              "  <div class=\"colab-df-container\">\n",
              "    <button class=\"colab-df-convert\" onclick=\"convertToInteractive('df-767040ea-77c7-4d9a-a7d0-a1147ad2f570')\"\n",
              "            title=\"Convert this dataframe to an interactive table.\"\n",
              "            style=\"display:none;\">\n",
              "\n",
              "  <svg xmlns=\"http://www.w3.org/2000/svg\" height=\"24px\" viewBox=\"0 -960 960 960\">\n",
              "    <path d=\"M120-120v-720h720v720H120Zm60-500h600v-160H180v160Zm220 220h160v-160H400v160Zm0 220h160v-160H400v160ZM180-400h160v-160H180v160Zm440 0h160v-160H620v160ZM180-180h160v-160H180v160Zm440 0h160v-160H620v160Z\"/>\n",
              "  </svg>\n",
              "    </button>\n",
              "\n",
              "  <style>\n",
              "    .colab-df-container {\n",
              "      display:flex;\n",
              "      gap: 12px;\n",
              "    }\n",
              "\n",
              "    .colab-df-convert {\n",
              "      background-color: #E8F0FE;\n",
              "      border: none;\n",
              "      border-radius: 50%;\n",
              "      cursor: pointer;\n",
              "      display: none;\n",
              "      fill: #1967D2;\n",
              "      height: 32px;\n",
              "      padding: 0 0 0 0;\n",
              "      width: 32px;\n",
              "    }\n",
              "\n",
              "    .colab-df-convert:hover {\n",
              "      background-color: #E2EBFA;\n",
              "      box-shadow: 0px 1px 2px rgba(60, 64, 67, 0.3), 0px 1px 3px 1px rgba(60, 64, 67, 0.15);\n",
              "      fill: #174EA6;\n",
              "    }\n",
              "\n",
              "    .colab-df-buttons div {\n",
              "      margin-bottom: 4px;\n",
              "    }\n",
              "\n",
              "    [theme=dark] .colab-df-convert {\n",
              "      background-color: #3B4455;\n",
              "      fill: #D2E3FC;\n",
              "    }\n",
              "\n",
              "    [theme=dark] .colab-df-convert:hover {\n",
              "      background-color: #434B5C;\n",
              "      box-shadow: 0px 1px 3px 1px rgba(0, 0, 0, 0.15);\n",
              "      filter: drop-shadow(0px 1px 2px rgba(0, 0, 0, 0.3));\n",
              "      fill: #FFFFFF;\n",
              "    }\n",
              "  </style>\n",
              "\n",
              "    <script>\n",
              "      const buttonEl =\n",
              "        document.querySelector('#df-767040ea-77c7-4d9a-a7d0-a1147ad2f570 button.colab-df-convert');\n",
              "      buttonEl.style.display =\n",
              "        google.colab.kernel.accessAllowed ? 'block' : 'none';\n",
              "\n",
              "      async function convertToInteractive(key) {\n",
              "        const element = document.querySelector('#df-767040ea-77c7-4d9a-a7d0-a1147ad2f570');\n",
              "        const dataTable =\n",
              "          await google.colab.kernel.invokeFunction('convertToInteractive',\n",
              "                                                    [key], {});\n",
              "        if (!dataTable) return;\n",
              "\n",
              "        const docLinkHtml = 'Like what you see? Visit the ' +\n",
              "          '<a target=\"_blank\" href=https://colab.research.google.com/notebooks/data_table.ipynb>data table notebook</a>'\n",
              "          + ' to learn more about interactive tables.';\n",
              "        element.innerHTML = '';\n",
              "        dataTable['output_type'] = 'display_data';\n",
              "        await google.colab.output.renderOutput(dataTable, element);\n",
              "        const docLink = document.createElement('div');\n",
              "        docLink.innerHTML = docLinkHtml;\n",
              "        element.appendChild(docLink);\n",
              "      }\n",
              "    </script>\n",
              "  </div>\n",
              "\n",
              "\n",
              "    <div id=\"df-de914f05-a8d8-4c08-8d8f-085e2cbe21c2\">\n",
              "      <button class=\"colab-df-quickchart\" onclick=\"quickchart('df-de914f05-a8d8-4c08-8d8f-085e2cbe21c2')\"\n",
              "                title=\"Suggest charts\"\n",
              "                style=\"display:none;\">\n",
              "\n",
              "<svg xmlns=\"http://www.w3.org/2000/svg\" height=\"24px\"viewBox=\"0 0 24 24\"\n",
              "     width=\"24px\">\n",
              "    <g>\n",
              "        <path d=\"M19 3H5c-1.1 0-2 .9-2 2v14c0 1.1.9 2 2 2h14c1.1 0 2-.9 2-2V5c0-1.1-.9-2-2-2zM9 17H7v-7h2v7zm4 0h-2V7h2v10zm4 0h-2v-4h2v4z\"/>\n",
              "    </g>\n",
              "</svg>\n",
              "      </button>\n",
              "\n",
              "<style>\n",
              "  .colab-df-quickchart {\n",
              "      --bg-color: #E8F0FE;\n",
              "      --fill-color: #1967D2;\n",
              "      --hover-bg-color: #E2EBFA;\n",
              "      --hover-fill-color: #174EA6;\n",
              "      --disabled-fill-color: #AAA;\n",
              "      --disabled-bg-color: #DDD;\n",
              "  }\n",
              "\n",
              "  [theme=dark] .colab-df-quickchart {\n",
              "      --bg-color: #3B4455;\n",
              "      --fill-color: #D2E3FC;\n",
              "      --hover-bg-color: #434B5C;\n",
              "      --hover-fill-color: #FFFFFF;\n",
              "      --disabled-bg-color: #3B4455;\n",
              "      --disabled-fill-color: #666;\n",
              "  }\n",
              "\n",
              "  .colab-df-quickchart {\n",
              "    background-color: var(--bg-color);\n",
              "    border: none;\n",
              "    border-radius: 50%;\n",
              "    cursor: pointer;\n",
              "    display: none;\n",
              "    fill: var(--fill-color);\n",
              "    height: 32px;\n",
              "    padding: 0;\n",
              "    width: 32px;\n",
              "  }\n",
              "\n",
              "  .colab-df-quickchart:hover {\n",
              "    background-color: var(--hover-bg-color);\n",
              "    box-shadow: 0 1px 2px rgba(60, 64, 67, 0.3), 0 1px 3px 1px rgba(60, 64, 67, 0.15);\n",
              "    fill: var(--button-hover-fill-color);\n",
              "  }\n",
              "\n",
              "  .colab-df-quickchart-complete:disabled,\n",
              "  .colab-df-quickchart-complete:disabled:hover {\n",
              "    background-color: var(--disabled-bg-color);\n",
              "    fill: var(--disabled-fill-color);\n",
              "    box-shadow: none;\n",
              "  }\n",
              "\n",
              "  .colab-df-spinner {\n",
              "    border: 2px solid var(--fill-color);\n",
              "    border-color: transparent;\n",
              "    border-bottom-color: var(--fill-color);\n",
              "    animation:\n",
              "      spin 1s steps(1) infinite;\n",
              "  }\n",
              "\n",
              "  @keyframes spin {\n",
              "    0% {\n",
              "      border-color: transparent;\n",
              "      border-bottom-color: var(--fill-color);\n",
              "      border-left-color: var(--fill-color);\n",
              "    }\n",
              "    20% {\n",
              "      border-color: transparent;\n",
              "      border-left-color: var(--fill-color);\n",
              "      border-top-color: var(--fill-color);\n",
              "    }\n",
              "    30% {\n",
              "      border-color: transparent;\n",
              "      border-left-color: var(--fill-color);\n",
              "      border-top-color: var(--fill-color);\n",
              "      border-right-color: var(--fill-color);\n",
              "    }\n",
              "    40% {\n",
              "      border-color: transparent;\n",
              "      border-right-color: var(--fill-color);\n",
              "      border-top-color: var(--fill-color);\n",
              "    }\n",
              "    60% {\n",
              "      border-color: transparent;\n",
              "      border-right-color: var(--fill-color);\n",
              "    }\n",
              "    80% {\n",
              "      border-color: transparent;\n",
              "      border-right-color: var(--fill-color);\n",
              "      border-bottom-color: var(--fill-color);\n",
              "    }\n",
              "    90% {\n",
              "      border-color: transparent;\n",
              "      border-bottom-color: var(--fill-color);\n",
              "    }\n",
              "  }\n",
              "</style>\n",
              "\n",
              "      <script>\n",
              "        async function quickchart(key) {\n",
              "          const quickchartButtonEl =\n",
              "            document.querySelector('#' + key + ' button');\n",
              "          quickchartButtonEl.disabled = true;  // To prevent multiple clicks.\n",
              "          quickchartButtonEl.classList.add('colab-df-spinner');\n",
              "          try {\n",
              "            const charts = await google.colab.kernel.invokeFunction(\n",
              "                'suggestCharts', [key], {});\n",
              "          } catch (error) {\n",
              "            console.error('Error during call to suggestCharts:', error);\n",
              "          }\n",
              "          quickchartButtonEl.classList.remove('colab-df-spinner');\n",
              "          quickchartButtonEl.classList.add('colab-df-quickchart-complete');\n",
              "        }\n",
              "        (() => {\n",
              "          let quickchartButtonEl =\n",
              "            document.querySelector('#df-de914f05-a8d8-4c08-8d8f-085e2cbe21c2 button');\n",
              "          quickchartButtonEl.style.display =\n",
              "            google.colab.kernel.accessAllowed ? 'block' : 'none';\n",
              "        })();\n",
              "      </script>\n",
              "    </div>\n",
              "\n",
              "  <div id=\"id_8ad941e1-0b6e-477e-a501-57e258abc58d\">\n",
              "    <style>\n",
              "      .colab-df-generate {\n",
              "        background-color: #E8F0FE;\n",
              "        border: none;\n",
              "        border-radius: 50%;\n",
              "        cursor: pointer;\n",
              "        display: none;\n",
              "        fill: #1967D2;\n",
              "        height: 32px;\n",
              "        padding: 0 0 0 0;\n",
              "        width: 32px;\n",
              "      }\n",
              "\n",
              "      .colab-df-generate:hover {\n",
              "        background-color: #E2EBFA;\n",
              "        box-shadow: 0px 1px 2px rgba(60, 64, 67, 0.3), 0px 1px 3px 1px rgba(60, 64, 67, 0.15);\n",
              "        fill: #174EA6;\n",
              "      }\n",
              "\n",
              "      [theme=dark] .colab-df-generate {\n",
              "        background-color: #3B4455;\n",
              "        fill: #D2E3FC;\n",
              "      }\n",
              "\n",
              "      [theme=dark] .colab-df-generate:hover {\n",
              "        background-color: #434B5C;\n",
              "        box-shadow: 0px 1px 3px 1px rgba(0, 0, 0, 0.15);\n",
              "        filter: drop-shadow(0px 1px 2px rgba(0, 0, 0, 0.3));\n",
              "        fill: #FFFFFF;\n",
              "      }\n",
              "    </style>\n",
              "    <button class=\"colab-df-generate\" onclick=\"generateWithVariable('df')\"\n",
              "            title=\"Generate code using this dataframe.\"\n",
              "            style=\"display:none;\">\n",
              "\n",
              "  <svg xmlns=\"http://www.w3.org/2000/svg\" height=\"24px\"viewBox=\"0 0 24 24\"\n",
              "       width=\"24px\">\n",
              "    <path d=\"M7,19H8.4L18.45,9,17,7.55,7,17.6ZM5,21V16.75L18.45,3.32a2,2,0,0,1,2.83,0l1.4,1.43a1.91,1.91,0,0,1,.58,1.4,1.91,1.91,0,0,1-.58,1.4L9.25,21ZM18.45,9,17,7.55Zm-12,3A5.31,5.31,0,0,0,4.9,8.1,5.31,5.31,0,0,0,1,6.5,5.31,5.31,0,0,0,4.9,4.9,5.31,5.31,0,0,0,6.5,1,5.31,5.31,0,0,0,8.1,4.9,5.31,5.31,0,0,0,12,6.5,5.46,5.46,0,0,0,6.5,12Z\"/>\n",
              "  </svg>\n",
              "    </button>\n",
              "    <script>\n",
              "      (() => {\n",
              "      const buttonEl =\n",
              "        document.querySelector('#id_8ad941e1-0b6e-477e-a501-57e258abc58d button.colab-df-generate');\n",
              "      buttonEl.style.display =\n",
              "        google.colab.kernel.accessAllowed ? 'block' : 'none';\n",
              "\n",
              "      buttonEl.onclick = () => {\n",
              "        google.colab.notebook.generateWithVariable('df');\n",
              "      }\n",
              "      })();\n",
              "    </script>\n",
              "  </div>\n",
              "\n",
              "    </div>\n",
              "  </div>\n"
            ],
            "application/vnd.google.colaboratory.intrinsic+json": {
              "type": "dataframe",
              "variable_name": "df",
              "summary": "{\n  \"name\": \"df\",\n  \"rows\": 2225,\n  \"fields\": [\n    {\n      \"column\": \"category\",\n      \"properties\": {\n        \"dtype\": \"category\",\n        \"num_unique_values\": 5,\n        \"samples\": [\n          \"business\",\n          \"politics\",\n          \"tech\"\n        ],\n        \"semantic_type\": \"\",\n        \"description\": \"\"\n      }\n    },\n    {\n      \"column\": \"text\",\n      \"properties\": {\n        \"dtype\": \"string\",\n        \"num_unique_values\": 2126,\n        \"samples\": [\n          \"howard rebuts asylum criticisms tory leader michael howard has gone on the offensive in response to people questioning how a son of immigrants can propose asylum quotas.  mr howard  whose parents fled the nazi threat to come to the uk  says the claim would mean no-one from an immigrant family could become premier. his comments come in a bbc documentary called  no more mr nasty . tv presenter anne robinson said as home secretary he gave the impression he would  like to kick your cat . ms robinson  a friend of the tory leader  also revealed that as a cambridge student mr howard was  much loved by women and he was a courteous and kind and rather dashing lover  - although she denied having personal experience.  i wasn t at cambridge - and it s not personal experience - but i know people who were.   documentary maker michael cockerell was given behind-the-scenes access to mr howard for his film portrait. the tory leader was asked about to respond to people who said that if there had there been a quota on immigration and asylum in the 1930s  his parents might not have been allowed into the country.  he replies:  what is the inference of that   that if you reach the view that you need to control immigration in the interests of the country you re not allowed to put a view forward if you happen to be descended from immigrants   that seems to me an absolutely extraordinary proposition  it would certainly mean no one from immigrant parents could be prime minister.   ms robinson  who presents the weakest link tells cockerell that she despaired at his hardline image when he was home secretary in john major s government.  i used to have to sit on my hands because he d get on television and give a passable impression of someone who d like to kick your cat or would put your baby in prison if he cried. i mean it was very  very draconian.  the film shows mr howard laughing at rory bremner s impression of him as dracula  which he calls  good fun   apart from the serious falsehood of a comment suggesting he wants fewer black people in the uk. the film shows the private side of the tory leader watching television at home or playing table tennis with his wife  ex-model sandra. asked if she enjoys a game of ping pong she confesses:  yeah  it would be more enjoyable if i could win occasionally too  but otherwise it s quite fun.   former downing street communications chief alastair campbell  now working on labour s election campaign  says a  touchy-feely  image does not fit mr howard. he says tony blair was not worried by his opponents  early performance in their commons clashes because mr howard lacked a  big strategy   including on issues like iraq. the tory leader brands such criticisms as  absolutely rubbish   arguing that he has been consistent on his support for the war but critical of mr blair s failure to tell the truth on intelligence. former tory chancellor ken clarke says mr howard has a bigger problem changing perceptions of the tory party than his personal image. mr clarke says the party is improving and it is  conceivable  it could win the next election. but he adds:  it has got to change itself a bit and broaden its appeal.   - michael howard: no more mr nasty is being shown on bbc2 on saturday 12 february at 2005 gmt.\",\n          \"man utd stroll to cup win wayne rooney made a winning return to everton as manchester united cruised into the fa cup quarter-finals.  rooney received a hostile reception  but goals in each half from quinton fortune and cristiano ronaldo silenced the jeers at goodison park. fortune headed home after 23 minutes before ronaldo scored when nigel martyn parried paul scholes  free-kick. marcus bent missed everton s best chance when roy carroll  who was later struck by a missile  saved at his feet.  rooney s return was always going to be a potential flashpoint  and he was involved in an angry exchange with a spectator even before kick-off. and rooney s every touch was met with a deafening chorus of jeers from the crowd that once idolised the 19-year-old. everton started brightly and fortune needed to be alert to scramble away a header from bent near the goal-line. but that was the cue for united to take complete control with a supreme passing display on a goodison park pitch that was cutting up. fortune gave united the lead after 23 minutes  rising to meet ronaldo s cross from eight yards after the portuguese youngster had been allowed too much time and space by the hapless gary naysmith. united dominated without creating too many clear-cut chances  and they almost paid the price for not making the most of their domination two minutes before half-time. mikel arteta played a superb ball into the area but bent  played onside by gabriel heintze  hesitated and carroll plunged at his fee to save. united almost doubled their lead after 48 minutes when ronaldo s low drive from 25 yards took a deflection off tony hibbert  but martyn dived to save brilliantly. and martyn came to everton s rescue three minutes later when rooney s big moment almost arrived as he raced clean through  but once again the veteran keeper was in outstanding form. but there was nothing martyn could do when united doubled their lead after 57 minutes as they doubled their advantage. scholes  free-kick took a deflection  and martyn could only parry the ball out for ronaldo  who reacted first to score easily. everton s problems worsened when james mcfadden limped off with an injury. and there may be further trouble ahead for everton after goalkeeper carroll required treatment after he was struck on the head by a missile thrown from behind the goal. rooney s desperate search for a goal on his return to everton was halted again by martyn in injury-time when he outpaced stubbs  but once again martyn denied the england striker.  - manchester united coach sir alex ferguson:  it was a fantastic performance by us. in fairness i think everton have missed a couple of players and got some young players out.  the boy ronaldo is a fantastic player. he s persistent and never gives in.  i don t know how many fouls he had he gets up and wants the ball again  he s truly a fabulous player.  everton: martyn  hibbert  yobo  stubbs  naysmith  osman  carsley  arteta  kilbane  mcfadden  bent. subs: wright  pistone  weir  plessis  vaughan. manchester united: carroll  gary neville  brown  ferdinand  heinze  ronaldo  phil neville  keane  scholes  fortune  rooney. subs: howard  giggs  smith  miller  spector. referee: r styles (hampshire)\",\n          \"hamm bows out for us women s football legend mia hamm has played her final game.  hamm  32  who officially retired after this year s athens olympics  took to the field for the last time to help the us claim a 5-0 win over mexico. hamm ends her career as the most prolific scorer - male or female - in international football  with 158 goals in 276 games for the us. she was twice fifa women s player of the year and won the world cup in 1991 and 1999 and two olympic golds. on her retirement  hamm said:  there are mixed emotions. there are things in your life that you have had to put on the back-burner and you can focus more time and energy on that now.  i have to see what is out there and not commit to everything at the beginning.  the friendly also saw the end of julie foudy and joy fawcett s us careers. hamm will now embark on a new life with husband  chicago cubs shortstop nomar garciaparra  who was in the stands to watch her final game. he has just agreed a new deal with the cubs after joining them in july.\"\n        ],\n        \"semantic_type\": \"\",\n        \"description\": \"\"\n      }\n    }\n  ]\n}"
            }
          },
          "metadata": {},
          "execution_count": 30
        }
      ]
    },
    {
      "cell_type": "code",
      "source": [
        "#No of a categories\n",
        "df['category'].value_counts()"
      ],
      "metadata": {
        "colab": {
          "base_uri": "https://localhost:8080/",
          "height": 272
        },
        "id": "G7c8rULu8LQZ",
        "outputId": "b836fbc5-9f23-4ce0-ade6-e64e52783349"
      },
      "execution_count": null,
      "outputs": [
        {
          "output_type": "execute_result",
          "data": {
            "text/plain": [
              "category\n",
              "sport            511\n",
              "business         510\n",
              "politics         417\n",
              "tech             401\n",
              "entertainment    386\n",
              "Name: count, dtype: int64"
            ],
            "text/html": [
              "<div>\n",
              "<style scoped>\n",
              "    .dataframe tbody tr th:only-of-type {\n",
              "        vertical-align: middle;\n",
              "    }\n",
              "\n",
              "    .dataframe tbody tr th {\n",
              "        vertical-align: top;\n",
              "    }\n",
              "\n",
              "    .dataframe thead th {\n",
              "        text-align: right;\n",
              "    }\n",
              "</style>\n",
              "<table border=\"1\" class=\"dataframe\">\n",
              "  <thead>\n",
              "    <tr style=\"text-align: right;\">\n",
              "      <th></th>\n",
              "      <th>count</th>\n",
              "    </tr>\n",
              "    <tr>\n",
              "      <th>category</th>\n",
              "      <th></th>\n",
              "    </tr>\n",
              "  </thead>\n",
              "  <tbody>\n",
              "    <tr>\n",
              "      <th>sport</th>\n",
              "      <td>511</td>\n",
              "    </tr>\n",
              "    <tr>\n",
              "      <th>business</th>\n",
              "      <td>510</td>\n",
              "    </tr>\n",
              "    <tr>\n",
              "      <th>politics</th>\n",
              "      <td>417</td>\n",
              "    </tr>\n",
              "    <tr>\n",
              "      <th>tech</th>\n",
              "      <td>401</td>\n",
              "    </tr>\n",
              "    <tr>\n",
              "      <th>entertainment</th>\n",
              "      <td>386</td>\n",
              "    </tr>\n",
              "  </tbody>\n",
              "</table>\n",
              "</div><br><label><b>dtype:</b> int64</label>"
            ]
          },
          "metadata": {},
          "execution_count": 31
        }
      ]
    },
    {
      "cell_type": "code",
      "source": [
        "#Analyzing data\n",
        "df['category'].value_counts().plot.bar()\n",
        "plt.show()"
      ],
      "metadata": {
        "colab": {
          "base_uri": "https://localhost:8080/",
          "height": 535
        },
        "id": "PadVAxI17lgb",
        "outputId": "e5dcb7cd-0f58-4fae-f0c8-5a4538a1c422"
      },
      "execution_count": null,
      "outputs": [
        {
          "output_type": "display_data",
          "data": {
            "text/plain": [
              "<Figure size 640x480 with 1 Axes>"
            ],
            "image/png": "[encoded data removed]"
          },
          "metadata": {}
        }
      ]
    },
    {
      "cell_type": "code",
      "source": [
        "#Data Preprocessing"
      ],
      "metadata": {
        "id": "c43wlqTvuf8z"
      },
      "execution_count": null,
      "outputs": []
    },
    {
      "cell_type": "code",
      "source": [
        "df['text'][0]"
      ],
      "metadata": {
        "colab": {
          "base_uri": "https://localhost:8080/",
          "height": 123
        },
        "id": "aAQIhhdGEGDr",
        "outputId": "655009b5-17ce-430b-d1c7-f6710c23286c"
      },
      "execution_count": null,
      "outputs": [
        {
          "output_type": "execute_result",
          "data": {
            "text/plain": [
              "'tv future in the hands of viewers with home theatre systems  plasma high-definition tvs  and digital video recorders moving into the living room  the way people watch tv will be radically different in five years  time.  that is according to an expert panel which gathered at the annual consumer electronics show in las vegas to discuss how these new technologies will impact one of our favourite pastimes. with the us leading the trend  programmes and other content will be delivered to viewers via home networks  through cable  satellite  telecoms companies  and broadband service providers to front rooms and portable devices.  one of the most talked-about technologies of ces has been digital and personal video recorders (dvr and pvr). these set-top boxes  like the us s tivo and the uk s sky+ system  allow people to record  store  play  pause and forward wind tv programmes when they want.  essentially  the technology allows for much more personalised tv. they are also being built-in to high-definition tv sets  which are big business in japan and the us  but slower to take off in europe because of the lack of high-definition programming. not only can people forward wind through adverts  they can also forget about abiding by network and channel schedules  putting together their own a-la-carte entertainment. but some us networks and cable and satellite companies are worried about what it means for them in terms of advertising revenues as well as  brand identity  and viewer loyalty to channels. although the us leads in this technology at the moment  it is also a concern that is being raised in europe  particularly with the growing uptake of services like sky+.  what happens here today  we will see in nine months to a years  time in the uk   adam hume  the bbc broadcast s futurologist told the bbc news website. for the likes of the bbc  there are no issues of lost advertising revenue yet. it is a more pressing issue at the moment for commercial uk broadcasters  but brand loyalty is important for everyone.  we will be talking more about content brands rather than network brands   said tim hanlon  from brand communications firm starcom mediavest.  the reality is that with broadband connections  anybody can be the producer of content.  he added:  the challenge now is that it is hard to promote a programme with so much choice.   what this means  said stacey jolna  senior vice president of tv guide tv group  is that the way people find the content they want to watch has to be simplified for tv viewers. it means that networks  in us terms  or channels could take a leaf out of google s book and be the search engine of the future  instead of the scheduler to help people find what they want to watch. this kind of channel model might work for the younger ipod generation which is used to taking control of their gadgets and what they play on them. but it might not suit everyone  the panel recognised. older generations are more comfortable with familiar schedules and channel brands because they know what they are getting. they perhaps do not want so much of the choice put into their hands  mr hanlon suggested.  on the other end  you have the kids just out of diapers who are pushing buttons already - everything is possible and available to them   said mr hanlon.  ultimately  the consumer will tell the market they want.   of the 50 000 new gadgets and technologies being showcased at ces  many of them are about enhancing the tv-watching experience. high-definition tv sets are everywhere and many new models of lcd (liquid crystal display) tvs have been launched with dvr capability built into them  instead of being external boxes. one such example launched at the show is humax s 26-inch lcd tv with an 80-hour tivo dvr and dvd recorder. one of the us s biggest satellite tv companies  directtv  has even launched its own branded dvr at the show with 100-hours of recording capability  instant replay  and a search function. the set can pause and rewind tv for up to 90 hours. and microsoft chief bill gates announced in his pre-show keynote speech a partnership with tivo  called tivotogo  which means people can play recorded programmes on windows pcs and mobile devices. all these reflect the increasing trend of freeing up multimedia so that people can watch what they want  when they want.'"
            ],
            "application/vnd.google.colaboratory.intrinsic+json": {
              "type": "string"
            }
          },
          "metadata": {},
          "execution_count": 34
        }
      ]
    },
    {
      "cell_type": "code",
      "source": [
        "re.sub(\"[^a-zA-Z]\", \" \", df['text'][0].lower())"
      ],
      "metadata": {
        "id": "ugCn7fzTh-pY",
        "colab": {
          "base_uri": "https://localhost:8080/",
          "height": 123
        },
        "outputId": "5fef5902-6b0a-4ba2-ce42-6e72c2232b20"
      },
      "execution_count": null,
      "outputs": [
        {
          "output_type": "execute_result",
          "data": {
            "text/plain": [
              "'tv future in the hands of viewers with home theatre systems  plasma high definition tvs  and digital video recorders moving into the living room  the way people watch tv will be radically different in five years  time   that is according to an expert panel which gathered at the annual consumer electronics show in las vegas to discuss how these new technologies will impact one of our favourite pastimes  with the us leading the trend  programmes and other content will be delivered to viewers via home networks  through cable  satellite  telecoms companies  and broadband service providers to front rooms and portable devices   one of the most talked about technologies of ces has been digital and personal video recorders  dvr and pvr   these set top boxes  like the us s tivo and the uk s sky  system  allow people to record  store  play  pause and forward wind tv programmes when they want   essentially  the technology allows for much more personalised tv  they are also being built in to high definition tv sets  which are big business in japan and the us  but slower to take off in europe because of the lack of high definition programming  not only can people forward wind through adverts  they can also forget about abiding by network and channel schedules  putting together their own a la carte entertainment  but some us networks and cable and satellite companies are worried about what it means for them in terms of advertising revenues as well as  brand identity  and viewer loyalty to channels  although the us leads in this technology at the moment  it is also a concern that is being raised in europe  particularly with the growing uptake of services like sky    what happens here today  we will see in nine months to a years  time in the uk   adam hume  the bbc broadcast s futurologist told the bbc news website  for the likes of the bbc  there are no issues of lost advertising revenue yet  it is a more pressing issue at the moment for commercial uk broadcasters  but brand loyalty is important for everyone   we will be talking more about content brands rather than network brands   said tim hanlon  from brand communications firm starcom mediavest   the reality is that with broadband connections  anybody can be the producer of content   he added   the challenge now is that it is hard to promote a programme with so much choice    what this means  said stacey jolna  senior vice president of tv guide tv group  is that the way people find the content they want to watch has to be simplified for tv viewers  it means that networks  in us terms  or channels could take a leaf out of google s book and be the search engine of the future  instead of the scheduler to help people find what they want to watch  this kind of channel model might work for the younger ipod generation which is used to taking control of their gadgets and what they play on them  but it might not suit everyone  the panel recognised  older generations are more comfortable with familiar schedules and channel brands because they know what they are getting  they perhaps do not want so much of the choice put into their hands  mr hanlon suggested   on the other end  you have the kids just out of diapers who are pushing buttons already   everything is possible and available to them   said mr hanlon   ultimately  the consumer will tell the market they want    of the        new gadgets and technologies being showcased at ces  many of them are about enhancing the tv watching experience  high definition tv sets are everywhere and many new models of lcd  liquid crystal display  tvs have been launched with dvr capability built into them  instead of being external boxes  one such example launched at the show is humax s    inch lcd tv with an    hour tivo dvr and dvd recorder  one of the us s biggest satellite tv companies  directtv  has even launched its own branded dvr at the show with     hours of recording capability  instant replay  and a search function  the set can pause and rewind tv for up to    hours  and microsoft chief bill gates announced in his pre show keynote speech a partnership with tivo  called tivotogo  which means people can play recorded programmes on windows pcs and mobile devices  all these reflect the increasing trend of freeing up multimedia so that people can watch what they want  when they want '"
            ],
            "application/vnd.google.colaboratory.intrinsic+json": {
              "type": "string"
            }
          },
          "metadata": {},
          "execution_count": 35
        }
      ]
    },
    {
      "cell_type": "code",
      "source": [
        "#stop words\n",
        "nltk.download('stopwords')\n",
        "words = stopwords.words(\"english\")\n",
        "print(words)"
      ],
      "metadata": {
        "colab": {
          "base_uri": "https://localhost:8080/"
        },
        "id": "7RDOg2Vcz0w_",
        "outputId": "8985bee4-a491-48f6-d924-c341749d9119"
      },
      "execution_count": null,
      "outputs": [
        {
          "output_type": "stream",
          "name": "stdout",
          "text": [
            "['a', 'about', 'above', 'after', 'again', 'against', 'ain', 'all', 'am', 'an', 'and', 'any', 'are', 'aren', \"aren't\", 'as', 'at', 'be', 'because', 'been', 'before', 'being', 'below', 'between', 'both', 'but', 'by', 'can', 'couldn', \"couldn't\", 'd', 'did', 'didn', \"didn't\", 'do', 'does', 'doesn', \"doesn't\", 'doing', 'don', \"don't\", 'down', 'during', 'each', 'few', 'for', 'from', 'further', 'had', 'hadn', \"hadn't\", 'has', 'hasn', \"hasn't\", 'have', 'haven', \"haven't\", 'having', 'he', \"he'd\", \"he'll\", 'her', 'here', 'hers', 'herself', \"he's\", 'him', 'himself', 'his', 'how', 'i', \"i'd\", 'if', \"i'll\", \"i'm\", 'in', 'into', 'is', 'isn', \"isn't\", 'it', \"it'd\", \"it'll\", \"it's\", 'its', 'itself', \"i've\", 'just', 'll', 'm', 'ma', 'me', 'mightn', \"mightn't\", 'more', 'most', 'mustn', \"mustn't\", 'my', 'myself', 'needn', \"needn't\", 'no', 'nor', 'not', 'now', 'o', 'of', 'off', 'on', 'once', 'only', 'or', 'other', 'our', 'ours', 'ourselves', 'out', 'over', 'own', 're', 's', 'same', 'shan', \"shan't\", 'she', \"she'd\", \"she'll\", \"she's\", 'should', 'shouldn', \"shouldn't\", \"should've\", 'so', 'some', 'such', 't', 'than', 'that', \"that'll\", 'the', 'their', 'theirs', 'them', 'themselves', 'then', 'there', 'these', 'they', \"they'd\", \"they'll\", \"they're\", \"they've\", 'this', 'those', 'through', 'to', 'too', 'under', 'until', 'up', 've', 'very', 'was', 'wasn', \"wasn't\", 'we', \"we'd\", \"we'll\", \"we're\", 'were', 'weren', \"weren't\", \"we've\", 'what', 'when', 'where', 'which', 'while', 'who', 'whom', 'why', 'will', 'with', 'won', \"won't\", 'wouldn', \"wouldn't\", 'y', 'you', \"you'd\", \"you'll\", 'your', \"you're\", 'yours', 'yourself', 'yourselves', \"you've\"]\n"
          ]
        },
        {
          "output_type": "stream",
          "name": "stderr",
          "text": [
            "[nltk_data] Downloading package stopwords to /root/nltk_data...\n",
            "[nltk_data]   Package stopwords is already up-to-date!\n"
          ]
        }
      ]
    },
    {
      "cell_type": "code",
      "source": [
        "# Data Cleaning using stemmer\n",
        "\n",
        "stemmer = PorterStemmer()\n",
        "data = \"I am loving computing I love computers\".split()\n",
        "data = \" \".join([stemmer.stem(i) for i in data])\n",
        "# stemmer.stem(\"\")\n",
        "data"
      ],
      "metadata": {
        "colab": {
          "base_uri": "https://localhost:8080/",
          "height": 36
        },
        "id": "bQU9V9SN1yUy",
        "outputId": "75a82980-cb8d-493b-dbbf-33c33fe04386"
      },
      "execution_count": null,
      "outputs": [
        {
          "output_type": "execute_result",
          "data": {
            "text/plain": [
              "'i am love comput i love comput'"
            ],
            "application/vnd.google.colaboratory.intrinsic+json": {
              "type": "string"
            }
          },
          "metadata": {},
          "execution_count": 37
        }
      ]
    },
    {
      "cell_type": "code",
      "source": [
        "# Data Cleaning removing stopwords"
      ],
      "metadata": {
        "id": "mZPU9uU5fr2I"
      },
      "execution_count": null,
      "outputs": []
    },
    {
      "cell_type": "code",
      "source": [
        "\" \".join([stemmer.stem(i) for i in df['text'][0].split()])\n"
      ],
      "metadata": {
        "colab": {
          "base_uri": "https://localhost:8080/",
          "height": 123
        },
        "id": "jbzAnVHd4pfD",
        "outputId": "c196ac90-bbbc-49e0-c980-366f4506541a"
      },
      "execution_count": null,
      "outputs": [
        {
          "output_type": "execute_result",
          "data": {
            "text/plain": [
              "'tv futur in the hand of viewer with home theatr system plasma high-definit tv and digit video record move into the live room the way peopl watch tv will be radic differ in five year time. that is accord to an expert panel which gather at the annual consum electron show in la vega to discuss how these new technolog will impact one of our favourit pastimes. with the us lead the trend programm and other content will be deliv to viewer via home network through cabl satellit telecom compani and broadband servic provid to front room and portabl devices. one of the most talked-about technolog of ce ha been digit and person video record (dvr and pvr). these set-top box like the us s tivo and the uk s sky+ system allow peopl to record store play paus and forward wind tv programm when they want. essenti the technolog allow for much more personalis tv. they are also be built-in to high-definit tv set which are big busi in japan and the us but slower to take off in europ becaus of the lack of high-definit programming. not onli can peopl forward wind through advert they can also forget about abid by network and channel schedul put togeth their own a-la-cart entertainment. but some us network and cabl and satellit compani are worri about what it mean for them in term of advertis revenu as well as brand ident and viewer loyalti to channels. although the us lead in thi technolog at the moment it is also a concern that is be rais in europ particularli with the grow uptak of servic like sky+. what happen here today we will see in nine month to a year time in the uk adam hume the bbc broadcast s futurologist told the bbc news website. for the like of the bbc there are no issu of lost advertis revenu yet. it is a more press issu at the moment for commerci uk broadcast but brand loyalti is import for everyone. we will be talk more about content brand rather than network brand said tim hanlon from brand commun firm starcom mediavest. the realiti is that with broadband connect anybodi can be the produc of content. he added: the challeng now is that it is hard to promot a programm with so much choice. what thi mean said stacey jolna senior vice presid of tv guid tv group is that the way peopl find the content they want to watch ha to be simplifi for tv viewers. it mean that network in us term or channel could take a leaf out of googl s book and be the search engin of the futur instead of the schedul to help peopl find what they want to watch. thi kind of channel model might work for the younger ipod gener which is use to take control of their gadget and what they play on them. but it might not suit everyon the panel recognised. older gener are more comfort with familiar schedul and channel brand becaus they know what they are getting. they perhap do not want so much of the choic put into their hand mr hanlon suggested. on the other end you have the kid just out of diaper who are push button alreadi - everyth is possibl and avail to them said mr hanlon. ultim the consum will tell the market they want. of the 50 000 new gadget and technolog be showcas at ce mani of them are about enhanc the tv-watch experience. high-definit tv set are everywher and mani new model of lcd (liquid crystal display) tv have been launch with dvr capabl built into them instead of be extern boxes. one such exampl launch at the show is humax s 26-inch lcd tv with an 80-hour tivo dvr and dvd recorder. one of the us s biggest satellit tv compani directtv ha even launch it own brand dvr at the show with 100-hour of record capabl instant replay and a search function. the set can paus and rewind tv for up to 90 hours. and microsoft chief bill gate announc in hi pre-show keynot speech a partnership with tivo call tivotogo which mean peopl can play record programm on window pc and mobil devices. all these reflect the increas trend of free up multimedia so that peopl can watch what they want when they want.'"
            ],
            "application/vnd.google.colaboratory.intrinsic+json": {
              "type": "string"
            }
          },
          "metadata": {},
          "execution_count": 39
        }
      ]
    },
    {
      "cell_type": "code",
      "source": [
        "\" \".join([i for i in df['text'][0].split() if i not in words])"
      ],
      "metadata": {
        "colab": {
          "base_uri": "https://localhost:8080/",
          "height": 123
        },
        "id": "DrpoBfnz7zkH",
        "outputId": "d7472002-3363-42b9-9486-3cd6db374d64"
      },
      "execution_count": null,
      "outputs": [
        {
          "output_type": "execute_result",
          "data": {
            "text/plain": [
              "'tv future hands viewers home theatre systems plasma high-definition tvs digital video recorders moving living room way people watch tv radically different five years time. according expert panel gathered annual consumer electronics show las vegas discuss new technologies impact one favourite pastimes. us leading trend programmes content delivered viewers via home networks cable satellite telecoms companies broadband service providers front rooms portable devices. one talked-about technologies ces digital personal video recorders (dvr pvr). set-top boxes like us tivo uk sky+ system allow people record store play pause forward wind tv programmes want. essentially technology allows much personalised tv. also built-in high-definition tv sets big business japan us slower take europe lack high-definition programming. people forward wind adverts also forget abiding network channel schedules putting together a-la-carte entertainment. us networks cable satellite companies worried means terms advertising revenues well brand identity viewer loyalty channels. although us leads technology moment also concern raised europe particularly growing uptake services like sky+. happens today see nine months years time uk adam hume bbc broadcast futurologist told bbc news website. likes bbc issues lost advertising revenue yet. pressing issue moment commercial uk broadcasters brand loyalty important everyone. talking content brands rather network brands said tim hanlon brand communications firm starcom mediavest. reality broadband connections anybody producer content. added: challenge hard promote programme much choice. means said stacey jolna senior vice president tv guide tv group way people find content want watch simplified tv viewers. means networks us terms channels could take leaf google book search engine future instead scheduler help people find want watch. kind channel model might work younger ipod generation used taking control gadgets play them. might suit everyone panel recognised. older generations comfortable familiar schedules channel brands know getting. perhaps want much choice put hands mr hanlon suggested. end kids diapers pushing buttons already - everything possible available said mr hanlon. ultimately consumer tell market want. 50 000 new gadgets technologies showcased ces many enhancing tv-watching experience. high-definition tv sets everywhere many new models lcd (liquid crystal display) tvs launched dvr capability built instead external boxes. one example launched show humax 26-inch lcd tv 80-hour tivo dvr dvd recorder. one us biggest satellite tv companies directtv even launched branded dvr show 100-hours recording capability instant replay search function. set pause rewind tv 90 hours. microsoft chief bill gates announced pre-show keynote speech partnership tivo called tivotogo means people play recorded programmes windows pcs mobile devices. reflect increasing trend freeing multimedia people watch want want.'"
            ],
            "application/vnd.google.colaboratory.intrinsic+json": {
              "type": "string"
            }
          },
          "metadata": {},
          "execution_count": 40
        }
      ]
    },
    {
      "cell_type": "code",
      "source": [
        "# list(map(lambda <argument>:<operations>, l))"
      ],
      "metadata": {
        "id": "3THPZwgVoZ8n"
      },
      "execution_count": null,
      "outputs": []
    },
    {
      "cell_type": "code",
      "source": [
        "# Doing all cleaning process using regex, stemmer, stopwords for all data\n",
        "# df['text'] = [re.sub(\"[^a-zA-Z]\", \" \", i).lower() for i in df['text']]\n",
        "\n",
        "df['text'] = list(map(lambda x: \" \".join([i for i in x.lower().split() if i not in words]), df['text']))\n",
        "# df['text'] = [\" \".join(word.split() for word in df['text'] if word.lower() not in stopwords.words('english'))]\n",
        "df['text'][1250]"
      ],
      "metadata": {
        "colab": {
          "base_uri": "https://localhost:8080/",
          "height": 140
        },
        "id": "8iBXfOfoFvaF",
        "outputId": "600c207d-6d50-411f-f1be-a57ba036ffd4"
      },
      "execution_count": null,
      "outputs": [
        {
          "output_type": "execute_result",
          "data": {
            "text/plain": [
              "'turkey iran mobile deal risk turkey investment iran mobile industry looks set scrapped biggest mobile firm saw investment slashed mps iran parliament voted large majority cut turkcell stake new mobile network move justified national security grounds follows earlier vote mps give veto foreign investments turkcell said decision increases risks attached project although company statement said would continue monitor developments observers said thought turkcell set pull bn deal possibility carrying project next zero said atinc ozkan analyst finans investment istanbul turkcell back mtn south african firm lost original tender may well back running company said prepared accept minority stake iran award mobile deal turkcell mobile deal second turkish investment iran run trouble turkish austrian consortium tav chosen build run tehran new imam khomeini international airport army closed hours opened may cases justification national security amid allegations turkish firms close israel hardline posture taken parliament dominated religious conservatives could yet impact inward investments'"
            ],
            "application/vnd.google.colaboratory.intrinsic+json": {
              "type": "string"
            }
          },
          "metadata": {},
          "execution_count": 42
        }
      ]
    },
    {
      "cell_type": "code",
      "source": [
        "df.to_csv('cleaned_bbc_data.csv')"
      ],
      "metadata": {
        "id": "8fzgwwiH0nGA"
      },
      "execution_count": null,
      "outputs": []
    },
    {
      "cell_type": "code",
      "source": [
        "df['cleaned'] = df['text'].apply(lambda x: \" \".join([stemmer.stem(i) for i in re.sub(\"[^a-zA-Z]\", \" \", x).split() ]).lower())\n",
        "df"
      ],
      "metadata": {
        "id": "76wP0Gl7s-Eb",
        "colab": {
          "base_uri": "https://localhost:8080/",
          "height": 423
        },
        "outputId": "bba03baa-c23f-4513-c1ab-9018392ab15c"
      },
      "execution_count": null,
      "outputs": [
        {
          "output_type": "execute_result",
          "data": {
            "text/plain": [
              "      category                                               text  \\\n",
              "114      sport  beckham relief real go david beckham expressed...   \n",
              "504      sport  kerr frustrated victory margin republic irelan...   \n",
              "2187     sport  jones files conte lawsuit marion jones filed l...   \n",
              "1086  business  shares hit ms drug suspension shares elan biog...   \n",
              "2170      tech  games win blu ray dvd format next generation d...   \n",
              "...        ...                                                ...   \n",
              "2188     sport  mexicans tracking unhappy juninho mexican outf...   \n",
              "232      sport  reyes tricked real admission jose antonio reye...   \n",
              "495   politics  thousands join strike wales thousands civil se...   \n",
              "493   politics  brown outlines third term vision gordon brown ...   \n",
              "218   politics  new rules tackle sham weddings new rules marri...   \n",
              "\n",
              "                                                cleaned  \n",
              "114   beckham relief real go david beckham express r...  \n",
              "504   kerr frustrat victori margin republ ireland ma...  \n",
              "2187  jone file cont lawsuit marion jone file lawsui...  \n",
              "1086  share hit ms drug suspens share elan biogen id...  \n",
              "2170  game win blu ray dvd format next gener dvd for...  \n",
              "...                                                 ...  \n",
              "2188  mexican track unhappi juninho mexican outfit r...  \n",
              "232   rey trick real admiss jose antonio rey ad spec...  \n",
              "495   thousand join strike wale thousand civil serva...  \n",
              "493   brown outlin third term vision gordon brown ou...  \n",
              "218   new rule tackl sham wed new rule marriag forei...  \n",
              "\n",
              "[2225 rows x 3 columns]"
            ],
            "text/html": [
              "\n",
              "  <div id=\"df-52de7811-f657-4f43-9311-c377bd98d4ab\" class=\"colab-df-container\">\n",
              "    <div>\n",
              "<style scoped>\n",
              "    .dataframe tbody tr th:only-of-type {\n",
              "        vertical-align: middle;\n",
              "    }\n",
              "\n",
              "    .dataframe tbody tr th {\n",
              "        vertical-align: top;\n",
              "    }\n",
              "\n",
              "    .dataframe thead th {\n",
              "        text-align: right;\n",
              "    }\n",
              "</style>\n",
              "<table border=\"1\" class=\"dataframe\">\n",
              "  <thead>\n",
              "    <tr style=\"text-align: right;\">\n",
              "      <th></th>\n",
              "      <th>category</th>\n",
              "      <th>text</th>\n",
              "      <th>cleaned</th>\n",
              "    </tr>\n",
              "  </thead>\n",
              "  <tbody>\n",
              "    <tr>\n",
              "      <th>114</th>\n",
              "      <td>sport</td>\n",
              "      <td>beckham relief real go david beckham expressed...</td>\n",
              "      <td>beckham relief real go david beckham express r...</td>\n",
              "    </tr>\n",
              "    <tr>\n",
              "      <th>504</th>\n",
              "      <td>sport</td>\n",
              "      <td>kerr frustrated victory margin republic irelan...</td>\n",
              "      <td>kerr frustrat victori margin republ ireland ma...</td>\n",
              "    </tr>\n",
              "    <tr>\n",
              "      <th>2187</th>\n",
              "      <td>sport</td>\n",
              "      <td>jones files conte lawsuit marion jones filed l...</td>\n",
              "      <td>jone file cont lawsuit marion jone file lawsui...</td>\n",
              "    </tr>\n",
              "    <tr>\n",
              "      <th>1086</th>\n",
              "      <td>business</td>\n",
              "      <td>shares hit ms drug suspension shares elan biog...</td>\n",
              "      <td>share hit ms drug suspens share elan biogen id...</td>\n",
              "    </tr>\n",
              "    <tr>\n",
              "      <th>2170</th>\n",
              "      <td>tech</td>\n",
              "      <td>games win blu ray dvd format next generation d...</td>\n",
              "      <td>game win blu ray dvd format next gener dvd for...</td>\n",
              "    </tr>\n",
              "    <tr>\n",
              "      <th>...</th>\n",
              "      <td>...</td>\n",
              "      <td>...</td>\n",
              "      <td>...</td>\n",
              "    </tr>\n",
              "    <tr>\n",
              "      <th>2188</th>\n",
              "      <td>sport</td>\n",
              "      <td>mexicans tracking unhappy juninho mexican outf...</td>\n",
              "      <td>mexican track unhappi juninho mexican outfit r...</td>\n",
              "    </tr>\n",
              "    <tr>\n",
              "      <th>232</th>\n",
              "      <td>sport</td>\n",
              "      <td>reyes tricked real admission jose antonio reye...</td>\n",
              "      <td>rey trick real admiss jose antonio rey ad spec...</td>\n",
              "    </tr>\n",
              "    <tr>\n",
              "      <th>495</th>\n",
              "      <td>politics</td>\n",
              "      <td>thousands join strike wales thousands civil se...</td>\n",
              "      <td>thousand join strike wale thousand civil serva...</td>\n",
              "    </tr>\n",
              "    <tr>\n",
              "      <th>493</th>\n",
              "      <td>politics</td>\n",
              "      <td>brown outlines third term vision gordon brown ...</td>\n",
              "      <td>brown outlin third term vision gordon brown ou...</td>\n",
              "    </tr>\n",
              "    <tr>\n",
              "      <th>218</th>\n",
              "      <td>politics</td>\n",
              "      <td>new rules tackle sham weddings new rules marri...</td>\n",
              "      <td>new rule tackl sham wed new rule marriag forei...</td>\n",
              "    </tr>\n",
              "  </tbody>\n",
              "</table>\n",
              "<p>2225 rows × 3 columns</p>\n",
              "</div>\n",
              "    <div class=\"colab-df-buttons\">\n",
              "\n",
              "  <div class=\"colab-df-container\">\n",
              "    <button class=\"colab-df-convert\" onclick=\"convertToInteractive('df-52de7811-f657-4f43-9311-c377bd98d4ab')\"\n",
              "            title=\"Convert this dataframe to an interactive table.\"\n",
              "            style=\"display:none;\">\n",
              "\n",
              "  <svg xmlns=\"http://www.w3.org/2000/svg\" height=\"24px\" viewBox=\"0 -960 960 960\">\n",
              "    <path d=\"M120-120v-720h720v720H120Zm60-500h600v-160H180v160Zm220 220h160v-160H400v160Zm0 220h160v-160H400v160ZM180-400h160v-160H180v160Zm440 0h160v-160H620v160ZM180-180h160v-160H180v160Zm440 0h160v-160H620v160Z\"/>\n",
              "  </svg>\n",
              "    </button>\n",
              "\n",
              "  <style>\n",
              "    .colab-df-container {\n",
              "      display:flex;\n",
              "      gap: 12px;\n",
              "    }\n",
              "\n",
              "    .colab-df-convert {\n",
              "      background-color: #E8F0FE;\n",
              "      border: none;\n",
              "      border-radius: 50%;\n",
              "      cursor: pointer;\n",
              "      display: none;\n",
              "      fill: #1967D2;\n",
              "      height: 32px;\n",
              "      padding: 0 0 0 0;\n",
              "      width: 32px;\n",
              "    }\n",
              "\n",
              "    .colab-df-convert:hover {\n",
              "      background-color: #E2EBFA;\n",
              "      box-shadow: 0px 1px 2px rgba(60, 64, 67, 0.3), 0px 1px 3px 1px rgba(60, 64, 67, 0.15);\n",
              "      fill: #174EA6;\n",
              "    }\n",
              "\n",
              "    .colab-df-buttons div {\n",
              "      margin-bottom: 4px;\n",
              "    }\n",
              "\n",
              "    [theme=dark] .colab-df-convert {\n",
              "      background-color: #3B4455;\n",
              "      fill: #D2E3FC;\n",
              "    }\n",
              "\n",
              "    [theme=dark] .colab-df-convert:hover {\n",
              "      background-color: #434B5C;\n",
              "      box-shadow: 0px 1px 3px 1px rgba(0, 0, 0, 0.15);\n",
              "      filter: drop-shadow(0px 1px 2px rgba(0, 0, 0, 0.3));\n",
              "      fill: #FFFFFF;\n",
              "    }\n",
              "  </style>\n",
              "\n",
              "    <script>\n",
              "      const buttonEl =\n",
              "        document.querySelector('#df-52de7811-f657-4f43-9311-c377bd98d4ab button.colab-df-convert');\n",
              "      buttonEl.style.display =\n",
              "        google.colab.kernel.accessAllowed ? 'block' : 'none';\n",
              "\n",
              "      async function convertToInteractive(key) {\n",
              "        const element = document.querySelector('#df-52de7811-f657-4f43-9311-c377bd98d4ab');\n",
              "        const dataTable =\n",
              "          await google.colab.kernel.invokeFunction('convertToInteractive',\n",
              "                                                    [key], {});\n",
              "        if (!dataTable) return;\n",
              "\n",
              "        const docLinkHtml = 'Like what you see? Visit the ' +\n",
              "          '<a target=\"_blank\" href=https://colab.research.google.com/notebooks/data_table.ipynb>data table notebook</a>'\n",
              "          + ' to learn more about interactive tables.';\n",
              "        element.innerHTML = '';\n",
              "        dataTable['output_type'] = 'display_data';\n",
              "        await google.colab.output.renderOutput(dataTable, element);\n",
              "        const docLink = document.createElement('div');\n",
              "        docLink.innerHTML = docLinkHtml;\n",
              "        element.appendChild(docLink);\n",
              "      }\n",
              "    </script>\n",
              "  </div>\n",
              "\n",
              "\n",
              "    <div id=\"df-5c562a8c-095e-463b-aac6-c9fe644c276c\">\n",
              "      <button class=\"colab-df-quickchart\" onclick=\"quickchart('df-5c562a8c-095e-463b-aac6-c9fe644c276c')\"\n",
              "                title=\"Suggest charts\"\n",
              "                style=\"display:none;\">\n",
              "\n",
              "<svg xmlns=\"http://www.w3.org/2000/svg\" height=\"24px\"viewBox=\"0 0 24 24\"\n",
              "     width=\"24px\">\n",
              "    <g>\n",
              "        <path d=\"M19 3H5c-1.1 0-2 .9-2 2v14c0 1.1.9 2 2 2h14c1.1 0 2-.9 2-2V5c0-1.1-.9-2-2-2zM9 17H7v-7h2v7zm4 0h-2V7h2v10zm4 0h-2v-4h2v4z\"/>\n",
              "    </g>\n",
              "</svg>\n",
              "      </button>\n",
              "\n",
              "<style>\n",
              "  .colab-df-quickchart {\n",
              "      --bg-color: #E8F0FE;\n",
              "      --fill-color: #1967D2;\n",
              "      --hover-bg-color: #E2EBFA;\n",
              "      --hover-fill-color: #174EA6;\n",
              "      --disabled-fill-color: #AAA;\n",
              "      --disabled-bg-color: #DDD;\n",
              "  }\n",
              "\n",
              "  [theme=dark] .colab-df-quickchart {\n",
              "      --bg-color: #3B4455;\n",
              "      --fill-color: #D2E3FC;\n",
              "      --hover-bg-color: #434B5C;\n",
              "      --hover-fill-color: #FFFFFF;\n",
              "      --disabled-bg-color: #3B4455;\n",
              "      --disabled-fill-color: #666;\n",
              "  }\n",
              "\n",
              "  .colab-df-quickchart {\n",
              "    background-color: var(--bg-color);\n",
              "    border: none;\n",
              "    border-radius: 50%;\n",
              "    cursor: pointer;\n",
              "    display: none;\n",
              "    fill: var(--fill-color);\n",
              "    height: 32px;\n",
              "    padding: 0;\n",
              "    width: 32px;\n",
              "  }\n",
              "\n",
              "  .colab-df-quickchart:hover {\n",
              "    background-color: var(--hover-bg-color);\n",
              "    box-shadow: 0 1px 2px rgba(60, 64, 67, 0.3), 0 1px 3px 1px rgba(60, 64, 67, 0.15);\n",
              "    fill: var(--button-hover-fill-color);\n",
              "  }\n",
              "\n",
              "  .colab-df-quickchart-complete:disabled,\n",
              "  .colab-df-quickchart-complete:disabled:hover {\n",
              "    background-color: var(--disabled-bg-color);\n",
              "    fill: var(--disabled-fill-color);\n",
              "    box-shadow: none;\n",
              "  }\n",
              "\n",
              "  .colab-df-spinner {\n",
              "    border: 2px solid var(--fill-color);\n",
              "    border-color: transparent;\n",
              "    border-bottom-color: var(--fill-color);\n",
              "    animation:\n",
              "      spin 1s steps(1) infinite;\n",
              "  }\n",
              "\n",
              "  @keyframes spin {\n",
              "    0% {\n",
              "      border-color: transparent;\n",
              "      border-bottom-color: var(--fill-color);\n",
              "      border-left-color: var(--fill-color);\n",
              "    }\n",
              "    20% {\n",
              "      border-color: transparent;\n",
              "      border-left-color: var(--fill-color);\n",
              "      border-top-color: var(--fill-color);\n",
              "    }\n",
              "    30% {\n",
              "      border-color: transparent;\n",
              "      border-left-color: var(--fill-color);\n",
              "      border-top-color: var(--fill-color);\n",
              "      border-right-color: var(--fill-color);\n",
              "    }\n",
              "    40% {\n",
              "      border-color: transparent;\n",
              "      border-right-color: var(--fill-color);\n",
              "      border-top-color: var(--fill-color);\n",
              "    }\n",
              "    60% {\n",
              "      border-color: transparent;\n",
              "      border-right-color: var(--fill-color);\n",
              "    }\n",
              "    80% {\n",
              "      border-color: transparent;\n",
              "      border-right-color: var(--fill-color);\n",
              "      border-bottom-color: var(--fill-color);\n",
              "    }\n",
              "    90% {\n",
              "      border-color: transparent;\n",
              "      border-bottom-color: var(--fill-color);\n",
              "    }\n",
              "  }\n",
              "</style>\n",
              "\n",
              "      <script>\n",
              "        async function quickchart(key) {\n",
              "          const quickchartButtonEl =\n",
              "            document.querySelector('#' + key + ' button');\n",
              "          quickchartButtonEl.disabled = true;  // To prevent multiple clicks.\n",
              "          quickchartButtonEl.classList.add('colab-df-spinner');\n",
              "          try {\n",
              "            const charts = await google.colab.kernel.invokeFunction(\n",
              "                'suggestCharts', [key], {});\n",
              "          } catch (error) {\n",
              "            console.error('Error during call to suggestCharts:', error);\n",
              "          }\n",
              "          quickchartButtonEl.classList.remove('colab-df-spinner');\n",
              "          quickchartButtonEl.classList.add('colab-df-quickchart-complete');\n",
              "        }\n",
              "        (() => {\n",
              "          let quickchartButtonEl =\n",
              "            document.querySelector('#df-5c562a8c-095e-463b-aac6-c9fe644c276c button');\n",
              "          quickchartButtonEl.style.display =\n",
              "            google.colab.kernel.accessAllowed ? 'block' : 'none';\n",
              "        })();\n",
              "      </script>\n",
              "    </div>\n",
              "\n",
              "  <div id=\"id_a05ef382-2a8a-404d-928a-3931fe26006f\">\n",
              "    <style>\n",
              "      .colab-df-generate {\n",
              "        background-color: #E8F0FE;\n",
              "        border: none;\n",
              "        border-radius: 50%;\n",
              "        cursor: pointer;\n",
              "        display: none;\n",
              "        fill: #1967D2;\n",
              "        height: 32px;\n",
              "        padding: 0 0 0 0;\n",
              "        width: 32px;\n",
              "      }\n",
              "\n",
              "      .colab-df-generate:hover {\n",
              "        background-color: #E2EBFA;\n",
              "        box-shadow: 0px 1px 2px rgba(60, 64, 67, 0.3), 0px 1px 3px 1px rgba(60, 64, 67, 0.15);\n",
              "        fill: #174EA6;\n",
              "      }\n",
              "\n",
              "      [theme=dark] .colab-df-generate {\n",
              "        background-color: #3B4455;\n",
              "        fill: #D2E3FC;\n",
              "      }\n",
              "\n",
              "      [theme=dark] .colab-df-generate:hover {\n",
              "        background-color: #434B5C;\n",
              "        box-shadow: 0px 1px 3px 1px rgba(0, 0, 0, 0.15);\n",
              "        filter: drop-shadow(0px 1px 2px rgba(0, 0, 0, 0.3));\n",
              "        fill: #FFFFFF;\n",
              "      }\n",
              "    </style>\n",
              "    <button class=\"colab-df-generate\" onclick=\"generateWithVariable('df')\"\n",
              "            title=\"Generate code using this dataframe.\"\n",
              "            style=\"display:none;\">\n",
              "\n",
              "  <svg xmlns=\"http://www.w3.org/2000/svg\" height=\"24px\"viewBox=\"0 0 24 24\"\n",
              "       width=\"24px\">\n",
              "    <path d=\"M7,19H8.4L18.45,9,17,7.55,7,17.6ZM5,21V16.75L18.45,3.32a2,2,0,0,1,2.83,0l1.4,1.43a1.91,1.91,0,0,1,.58,1.4,1.91,1.91,0,0,1-.58,1.4L9.25,21ZM18.45,9,17,7.55Zm-12,3A5.31,5.31,0,0,0,4.9,8.1,5.31,5.31,0,0,0,1,6.5,5.31,5.31,0,0,0,4.9,4.9,5.31,5.31,0,0,0,6.5,1,5.31,5.31,0,0,0,8.1,4.9,5.31,5.31,0,0,0,12,6.5,5.46,5.46,0,0,0,6.5,12Z\"/>\n",
              "  </svg>\n",
              "    </button>\n",
              "    <script>\n",
              "      (() => {\n",
              "      const buttonEl =\n",
              "        document.querySelector('#id_a05ef382-2a8a-404d-928a-3931fe26006f button.colab-df-generate');\n",
              "      buttonEl.style.display =\n",
              "        google.colab.kernel.accessAllowed ? 'block' : 'none';\n",
              "\n",
              "      buttonEl.onclick = () => {\n",
              "        google.colab.notebook.generateWithVariable('df');\n",
              "      }\n",
              "      })();\n",
              "    </script>\n",
              "  </div>\n",
              "\n",
              "    </div>\n",
              "  </div>\n"
            ],
            "application/vnd.google.colaboratory.intrinsic+json": {
              "type": "dataframe",
              "variable_name": "df",
              "summary": "{\n  \"name\": \"df\",\n  \"rows\": 2225,\n  \"fields\": [\n    {\n      \"column\": \"category\",\n      \"properties\": {\n        \"dtype\": \"category\",\n        \"num_unique_values\": 5,\n        \"samples\": [\n          \"business\",\n          \"politics\",\n          \"tech\"\n        ],\n        \"semantic_type\": \"\",\n        \"description\": \"\"\n      }\n    },\n    {\n      \"column\": \"text\",\n      \"properties\": {\n        \"dtype\": \"string\",\n        \"num_unique_values\": 2119,\n        \"samples\": [\n          \"consumers snub portable video consumers want music rather movies move says report produced jupiter research analysis portable media player market found europeans want watch video contrast almost third interested listening music portable player ipod firm said gadget makers avoid hybrid devices instead make sure music reproduction good possible report concluded driving force behind growth europe portable player market likely music rather films combination two barely questioned said wanted player could play back music movies wanted player could handle games video dedicated music players established digital media players europe today despite high prices said ian fogg jupiter analyst mr fogg said although video players smartphones trying cash success faced tough job compromises made creating dual purpose device europeans care music playback said report showed consumers asked interested portable music players research revealed french british consumers interested music players mr fogg said portable video players likely remain niche product would able compete devices dedicated music playback separate report jupiter forecasts european digital music market grow euros end market worth euros digital music players behind market growth said jupiter apple ipod launched october portable music player market growing steadily since launch creative nomad jukebox mid consumers face almost overwhelming choice high capacity portable music players let store every track every cd\",\n          \"blair joins school sailing trip prime minister donned life jacket joined school children sailing dinghy sought sell party education policies tony blair sailed across lake bromsgrove worcestershire visit education secretary ruth kelly back school outings mr blair later stressed labour election pledge focus education met parents area conservatives lib dems say pledges worthless parties stepping campaigning ahead general election widely expected held may mr blair looking little windswept joined two girls st egwin middle school evesham instructor trip wayfarer dinghy closely followed boat full photographers afterwards said outdoor activities beneficial children accepted lots teachers worried taking part fear sued something went wrong introducing simple guidelines teachers follow going risk legal action mr blair said types activities got exercise common sense obviously situation parents teachers end worried going subject sorts legal action take children sailing outdoor activity actually good kids good health character pledge education child achieving one six election pledges unveiled mr blair last week wins third term general election expected year labour committed giving parents choice schools allowing secondary schools take specialist status opening city academies creating sixth form places aims improve discipline schools adopting zero tolerance approach disruption classes introducing fixed penalty notices truants labour also plans give head teachers groups local schools control funding units handle disruptive pupils parents teachers met mr blair tuesday invited informal discussion writing mps raise concerns education latest series events designed show prime minister speaking directly voters run election lost touch conservatives shadow education secretary tim collins said mr blair government talk must judged done two terms mendaciously claims would third judgment damning liberal democrats promising cut class sizes youngest children ensure children taught qualified teacher subject\",\n          \"uefa approves fake grass uefa says allow european matches played artificial pitches start next season european football governing body made decision meeting executive committee wednesday uefa explained move follows comprehensive studies sporting medical aspects using artificial playing surfaces used subject complying uefa quality criteria use made obligatory luton preston queens park rangers clubs used plastic pitches two year study uefa insists surfaces moved international matches also played pitches although games major tournaments contested grass uefa spokesman rob faulkner said people england bad memories artificial pitches luton qpr latest generation completely different much like grass sanctioned use start next season long latest generation artificial turf meets whole series standards several leading clubs scandinavia russia eastern europe especially play champions league uefa cup matches winter expected instal artificial pitches\"\n        ],\n        \"semantic_type\": \"\",\n        \"description\": \"\"\n      }\n    },\n    {\n      \"column\": \"cleaned\",\n      \"properties\": {\n        \"dtype\": \"string\",\n        \"num_unique_values\": 2117,\n        \"samples\": [\n          \"blair join school sail trip prime minist don life jacket join school children sail dinghi sought sell parti educ polici toni blair sail across lake bromsgrov worcestershir visit educ secretari ruth kelli back school outing mr blair later stress labour elect pledg focu educ met parent area conserv lib dem say pledg worthless parti step campaign ahead gener elect wide expect held may mr blair look littl windswept join two girl st egwin middl school evesham instructor trip wayfar dinghi close follow boat full photograph afterward said outdoor activ benefici children accept lot teacher worri take part fear su someth went wrong introduc simpl guidelin teacher follow go risk legal action mr blair said type activ got exercis common sens obvious situat parent teacher end worri go subject sort legal action take children sail outdoor activ actual good kid good health charact pledg educ child achiev one six elect pledg unveil mr blair last week win third term gener elect expect year labour commit give parent choic school allow secondari school take specialist statu open citi academi creat sixth form place aim improv disciplin school adopt zero toler approach disrupt class introduc fix penalti notic truant labour also plan give head teacher group local school control fund unit handl disrupt pupil parent teacher met mr blair tuesday invit inform discuss write mp rais concern educ latest seri event design show prime minist speak directli voter run elect lost touch conserv shadow educ secretari tim collin said mr blair govern talk must judg done two term mendaci claim would third judgment damn liber democrat promis cut class size youngest children ensur children taught qualifi teacher subject\",\n          \"scrum half william rejoin bath bath sign former scrum half andi william short term deal neath swansea osprey wale intern william whose contract welsh region due expir june agre contract end season martyn wood injuri like keep februari bath need experienc back nick walsh said william opportun present realli think twice william cap wale romania figur match squad monday zurich premiership match sale shark lost osprey start place new zealand jason spice fallen behind peck order welsh region two outstand young prospect richi ree rhodri well bath director rugbi jack rowel though believ william fit bill perfectli play regular heineken cup celtic leagu rugbi great affect bath rowel told bath offici websit delight abl welcom back club\",\n          \"power peopl say hp digit revolut focus let peopl tell share stori accord carli fiorina chief technolog giant hewlett packard job firm hp said speech consum electron show ce ensur digit physic world fulli converg said goal make peopl centr technolog ce showcas new gadget hit shelv tech fest largest kind world run januari digit revolut democratis technolog experi make possibl told deleg revolut alway give power peopl ad real stori digit revolut new product million experi made possibl stori million tell part give peopl control free content imag video music crucial effort make devic speak better content easili transfer one devic digit camera other portabl media player lot work still need done howev sort compat issu standard within technolog industri gadget work seamlessli said ms fiorina talk also tout way technolog design focu lifestyl fashion personalis someth see key peopl want special guest singer gwen stefani join stage promot rang hp digit camera ms stefani help design heavili influenc japanes youth cultur digit camera due go sale us summer base hp model emphasi personalis lifestyl big theme year ce tini wearabl mp player everi turn rainbow hue give colour everyth ms fiorina also announc hp work nokia launch visual radio servic mobil would launch europ earli year servic let peopl listen radio mobil download relev content like track rington simultan servic design make mobil radio interact among new product showcas digit media hub big upgrad hp digit entertain centr come autumn us box network high definit tv cabl set top box digit video record dvd record remov hard drive cartridg memori card slot light scribe label softwar let peopl design print customis dvd label cover design contain household digit media pre record tv show pictur video music manag one place hub reflect increas move box pc work part key centr entertain research suggest million imag save share everi day equat billion year eighti per cent remain camera media hub design encourag peopl organis one box ms fiorina one sever keynot speaker also includ microsoft chief bill gate set major technolog compani think peopl technolog gadget next month separ announc keynot speech ms fiorina said hp would partner mtv replac year mtv asia music award mtv asia aid held bangkok februari aim help rais money asian tsunami disast\"\n        ],\n        \"semantic_type\": \"\",\n        \"description\": \"\"\n      }\n    }\n  ]\n}"
            }
          },
          "metadata": {},
          "execution_count": 45
        }
      ]
    },
    {
      "cell_type": "code",
      "source": [
        "# print(words)"
      ],
      "metadata": {
        "id": "rpyZb6DBr0yS"
      },
      "execution_count": null,
      "outputs": []
    },
    {
      "cell_type": "code",
      "source": [
        "# words = stopwords.words(\"nepali\")\n",
        "# words"
      ],
      "metadata": {
        "id": "9QpxBwUMvFrW"
      },
      "execution_count": null,
      "outputs": []
    },
    {
      "cell_type": "code",
      "source": [
        "# #for all steaming,stopword,regex\n",
        "# df['cleaned'] = df['text'].apply(lambda x: \" \".join([stemmer.stem(i) for i in re.sub(\"[^a-zA-Z]\", \" \", x).split() if i not in words]).lower())\n",
        "# df"
      ],
      "metadata": {
        "id": "e7YQAi-Asdy2"
      },
      "execution_count": null,
      "outputs": []
    },
    {
      "cell_type": "code",
      "source": [
        "# Training model\n",
        "from sklearn.linear_model import LogisticRegression\n",
        "log_regression = LogisticRegression()\n",
        "\n",
        "vectorizer = TfidfVectorizer()\n"
      ],
      "metadata": {
        "id": "qunZeGdV_GLj"
      },
      "execution_count": null,
      "outputs": []
    },
    {
      "cell_type": "code",
      "source": [
        "X = df['cleaned']\n",
        "Y = df['category'].astype('str')\n",
        "\n",
        "X_train, X_test, y_train, y_test = train_test_split(X, Y, test_size=0.15) #Splitting dataset\n",
        "\n",
        "\n",
        "# #Creating Pipeline\n",
        "pipeline = Pipeline([('vect', vectorizer),\n",
        "                     ('chi',  SelectKBest(chi2, k=5000)),\n",
        "                     ('clf', LogisticRegression())])\n",
        "\n",
        "\n",
        "# #Training model\n",
        "model = pipeline.fit(X_train, y_train)\n",
        "\n",
        "# #Creating pickle file\n",
        "with open('LogisticRegression.pickle', 'wb') as f:\n",
        "    pickle.dump(model, f)"
      ],
      "metadata": {
        "id": "9QohUEpiqBfn"
      },
      "execution_count": null,
      "outputs": []
    },
    {
      "cell_type": "code",
      "source": [
        "X_test"
      ],
      "metadata": {
        "colab": {
          "base_uri": "https://localhost:8080/",
          "height": 458
        },
        "id": "gSyRFPq-duso",
        "outputId": "6654e467-806d-4998-c901-c2e2d7e43cc6"
      },
      "execution_count": null,
      "outputs": [
        {
          "output_type": "execute_result",
          "data": {
            "text/plain": [
              "61      robinson want dual code success england rugbi ...\n",
              "762     celtic make late bid bellami newcastl striker ...\n",
              "880     roundabout continu nostalgia trip new big scre...\n",
              "1743    kenya lift chepkemei suspens kenya athlet bodi...\n",
              "1350    snow patrol bassist exit group snow patrol cou...\n",
              "                              ...                        \n",
              "535     pc ownership doubl number person comput worldw...\n",
              "1291    man utd stroll cup win wayn rooney made win re...\n",
              "1657    ray charl studio becom museum museum dedic car...\n",
              "2153    set televis wow televis start magic blurri ima...\n",
              "1783    radcliff compet london paula radcliff compet f...\n",
              "Name: cleaned, Length: 334, dtype: object"
            ],
            "text/html": [
              "<div>\n",
              "<style scoped>\n",
              "    .dataframe tbody tr th:only-of-type {\n",
              "        vertical-align: middle;\n",
              "    }\n",
              "\n",
              "    .dataframe tbody tr th {\n",
              "        vertical-align: top;\n",
              "    }\n",
              "\n",
              "    .dataframe thead th {\n",
              "        text-align: right;\n",
              "    }\n",
              "</style>\n",
              "<table border=\"1\" class=\"dataframe\">\n",
              "  <thead>\n",
              "    <tr style=\"text-align: right;\">\n",
              "      <th></th>\n",
              "      <th>cleaned</th>\n",
              "    </tr>\n",
              "  </thead>\n",
              "  <tbody>\n",
              "    <tr>\n",
              "      <th>61</th>\n",
              "      <td>robinson want dual code success england rugbi ...</td>\n",
              "    </tr>\n",
              "    <tr>\n",
              "      <th>762</th>\n",
              "      <td>celtic make late bid bellami newcastl striker ...</td>\n",
              "    </tr>\n",
              "    <tr>\n",
              "      <th>880</th>\n",
              "      <td>roundabout continu nostalgia trip new big scre...</td>\n",
              "    </tr>\n",
              "    <tr>\n",
              "      <th>1743</th>\n",
              "      <td>kenya lift chepkemei suspens kenya athlet bodi...</td>\n",
              "    </tr>\n",
              "    <tr>\n",
              "      <th>1350</th>\n",
              "      <td>snow patrol bassist exit group snow patrol cou...</td>\n",
              "    </tr>\n",
              "    <tr>\n",
              "      <th>...</th>\n",
              "      <td>...</td>\n",
              "    </tr>\n",
              "    <tr>\n",
              "      <th>535</th>\n",
              "      <td>pc ownership doubl number person comput worldw...</td>\n",
              "    </tr>\n",
              "    <tr>\n",
              "      <th>1291</th>\n",
              "      <td>man utd stroll cup win wayn rooney made win re...</td>\n",
              "    </tr>\n",
              "    <tr>\n",
              "      <th>1657</th>\n",
              "      <td>ray charl studio becom museum museum dedic car...</td>\n",
              "    </tr>\n",
              "    <tr>\n",
              "      <th>2153</th>\n",
              "      <td>set televis wow televis start magic blurri ima...</td>\n",
              "    </tr>\n",
              "    <tr>\n",
              "      <th>1783</th>\n",
              "      <td>radcliff compet london paula radcliff compet f...</td>\n",
              "    </tr>\n",
              "  </tbody>\n",
              "</table>\n",
              "<p>334 rows × 1 columns</p>\n",
              "</div><br><label><b>dtype:</b> object</label>"
            ]
          },
          "metadata": {},
          "execution_count": 54
        }
      ]
    },
    {
      "cell_type": "code",
      "source": [
        "y_test"
      ],
      "metadata": {
        "colab": {
          "base_uri": "https://localhost:8080/",
          "height": 458
        },
        "id": "GBpFpej76bMT",
        "outputId": "b3e6a0f0-64f9-4296-85a6-dd45b82c68af"
      },
      "execution_count": null,
      "outputs": [
        {
          "output_type": "execute_result",
          "data": {
            "text/plain": [
              "61              sport\n",
              "762             sport\n",
              "880     entertainment\n",
              "1743            sport\n",
              "1350    entertainment\n",
              "            ...      \n",
              "535              tech\n",
              "1291            sport\n",
              "1657    entertainment\n",
              "2153             tech\n",
              "1783            sport\n",
              "Name: category, Length: 334, dtype: object"
            ],
            "text/html": [
              "<div>\n",
              "<style scoped>\n",
              "    .dataframe tbody tr th:only-of-type {\n",
              "        vertical-align: middle;\n",
              "    }\n",
              "\n",
              "    .dataframe tbody tr th {\n",
              "        vertical-align: top;\n",
              "    }\n",
              "\n",
              "    .dataframe thead th {\n",
              "        text-align: right;\n",
              "    }\n",
              "</style>\n",
              "<table border=\"1\" class=\"dataframe\">\n",
              "  <thead>\n",
              "    <tr style=\"text-align: right;\">\n",
              "      <th></th>\n",
              "      <th>category</th>\n",
              "    </tr>\n",
              "  </thead>\n",
              "  <tbody>\n",
              "    <tr>\n",
              "      <th>61</th>\n",
              "      <td>sport</td>\n",
              "    </tr>\n",
              "    <tr>\n",
              "      <th>762</th>\n",
              "      <td>sport</td>\n",
              "    </tr>\n",
              "    <tr>\n",
              "      <th>880</th>\n",
              "      <td>entertainment</td>\n",
              "    </tr>\n",
              "    <tr>\n",
              "      <th>1743</th>\n",
              "      <td>sport</td>\n",
              "    </tr>\n",
              "    <tr>\n",
              "      <th>1350</th>\n",
              "      <td>entertainment</td>\n",
              "    </tr>\n",
              "    <tr>\n",
              "      <th>...</th>\n",
              "      <td>...</td>\n",
              "    </tr>\n",
              "    <tr>\n",
              "      <th>535</th>\n",
              "      <td>tech</td>\n",
              "    </tr>\n",
              "    <tr>\n",
              "      <th>1291</th>\n",
              "      <td>sport</td>\n",
              "    </tr>\n",
              "    <tr>\n",
              "      <th>1657</th>\n",
              "      <td>entertainment</td>\n",
              "    </tr>\n",
              "    <tr>\n",
              "      <th>2153</th>\n",
              "      <td>tech</td>\n",
              "    </tr>\n",
              "    <tr>\n",
              "      <th>1783</th>\n",
              "      <td>sport</td>\n",
              "    </tr>\n",
              "  </tbody>\n",
              "</table>\n",
              "<p>334 rows × 1 columns</p>\n",
              "</div><br><label><b>dtype:</b> object</label>"
            ]
          },
          "metadata": {},
          "execution_count": 55
        }
      ]
    },
    {
      "cell_type": "code",
      "source": [
        "#Test Accuracy\n",
        "from sklearn.metrics import accuracy_score\n",
        "predict_news_cat = model.predict(X_test)\n",
        "# print(predict_news_cat)\n",
        "print(accuracy_score(y_test,predict_news_cat))\n",
        "# print('\\n')\n",
        "# print(predict_news_cat)"
      ],
      "metadata": {
        "id": "aAZIfQmWIlP1",
        "colab": {
          "base_uri": "https://localhost:8080/"
        },
        "outputId": "1f54dd02-7db9-4421-d24d-08517279dfc9"
      },
      "execution_count": null,
      "outputs": [
        {
          "output_type": "stream",
          "name": "stdout",
          "text": [
            "0.9880239520958084\n"
          ]
        }
      ]
    },
    {
      "cell_type": "code",
      "source": [
        "#Train Accuracy\n",
        "from sklearn.metrics import accuracy_score\n",
        "predict_news_cat = model.predict(X_train)\n",
        "# print(predict_news_cat)\n",
        "print(accuracy_score(y_train,predict_news_cat))\n",
        "# print('\\n')\n",
        "# print(predict_news_cat)"
      ],
      "metadata": {
        "colab": {
          "base_uri": "https://localhost:8080/"
        },
        "id": "FDKoG9IkEr4D",
        "outputId": "319c98fb-2c1b-40da-9cba-3237a05bb72f"
      },
      "execution_count": null,
      "outputs": [
        {
          "output_type": "stream",
          "name": "stdout",
          "text": [
            "0.9957694341618192\n"
          ]
        }
      ]
    },
    {
      "cell_type": "code",
      "source": [
        "# file = open('/content/news.txt','r')\n",
        "# news = file.read()\n",
        "# file.close()\n",
        "\n",
        "news = input(\"Enter news = \")\n",
        "news_data = {'predict_news':[news]}\n",
        "news_data_df = pd.DataFrame(news_data)\n",
        "news_data_df['predict_news'] = list(map(lambda x: \" \".join([i for i in x.lower().split() if i not in words]), news_data_df['predict_news']))\n",
        "news_data_df['predict_news'] = news_data_df['predict_news'].apply(lambda x: \" \".join([stemmer.stem(i) for i in re.sub(\"[^a-zA-Z]\", \" \", x).split() if i not in words]).lower())\n",
        "\n",
        "predict_news_cat = model.predict(news_data_df['predict_news'])\n",
        "print(\"Predicted news category = \",predict_news_cat[0])"
      ],
      "metadata": {
        "colab": {
          "base_uri": "https://localhost:8080/"
        },
        "id": "5S-Fnbr-DT65",
        "outputId": "359aa233-ed56-4b4e-c59f-c3cb94f49f7a"
      },
      "execution_count": null,
      "outputs": [
        {
          "output_type": "stream",
          "name": "stdout",
          "text": [
            "Enter news = Demonstrations on September 9 led to the torching of public property, various commercial buildings, hotels, and homes resulting in damages worth tens of billions of rupees.   This has raised a significant question: Who will bear the cost of this damage, and how?  First, let's talk about public property.  This time, the protests caused damage to numerous public assets, including Singha Durbar, the Parliament building, the Supreme, and many High, and District Courts, as well as municipality and ward offices and various departmental offices. Billions of rupees were invested in building these structures.  However, public property in Nepal is not insured. Although there have been calls to insure public property for a long time, government apathy has prevented it from happening. Therefore, the damage to public property will not be compensated.  Now, let's discuss private property.  A significant amount of private property was damaged in Kathmandu and districts across the country.  Large businesses like Bhat-Bhateni Superstore, Hilton Hotel, Chaudhary Group's industries, Labim Mall, and car showrooms were damaged. In addition, the offices, homes, and vehicles of prominent businesspeople like Binod Chaudhary, Shekhar Golchha, and Dhruva Thapa were also affected. Numerous medium-sized businesses across the country were also damaged, as were the private homes of political leaders and high-ranking officials.  Although a precise figure is not yet available, initial estimates suggest that the damage to private property amounts to billions of rupees.  According to Executive Director of the Nepal Insurance Authority Sushil Dev Subedi, the estimated damage from this protest is greater than that caused by the 2015 Earthquake.  \"In the earthquake, insurance companies paid out Rs 20 billion in claims. It is estimated that the claims now could be several times higher,\" he said.  Hotel owners have already stated that the damage to hotels alone amounts to Rs 25 billion.  The Hilton Hotel was built with an investment of more than Rs 8 billion. The hotel, which was destroyed by arson, was insured for approximately Rs 7 billion.  According to insurance regulations, damage caused during a demonstration or protest is considered \"damage from rioting.\" The Insurance Authority has mandated that property insurance, home insurance, and engineering insurance must cover damage from riots.  Motor vehicle insurance comes in two types: third-party and comprehensive. Third-party insurance does not cover damage from rioting; it covers compensation for people who are injured or killed in a motor vehicle accident.  Comprehensive insurance, on the other hand, covers damage to the vehicle itself, including damage from rioting.  This means that if a commercial building, private home, or vehicle damaged during the protests was insured, the owners are entitled to a claim, according to Subedi.  The Insurance Authority has already instructed companies to start collecting insurance claims. The companies must then submit their data to the Authority every Wednesday, which will then make the information public.  How does an insurance claim Work?  Generally, to file a claim, property owners must inform both the police and the insurance company they are insured with. In the current situation, however, it is sufficient to only inform the insurance company.  After being notified, officials (surveyors) are dispatched to the site for an inspection.  The surveyor must submit a report within 60 days. This time limit, however, does not apply to reports for engineering insurance claims for buildings and industries that are under construction.  After the report is submitted, the insurance companies will pay the claim amount.  According to CEO of Shikhar Insurance Dip Prakash Pandey, the company has provided insurance for the Hyatt Hotel and Bhat-Bhateni at some locations.  \"We don't expect the claims to be very large. We will process the payments quickly as per the rules,\" he said.  Some claimants have had positive experiences with insurance companies paying on time.  According to Shawant Jung Sijapati, General Manager of Sipradi's Passenger Vehicle Business Division, the authorized dealer for Tata vehicles in Nepal, insurance companies have always paid on time.  \"We haven't faced any significant problems with our insurance claims after the earthquake or the recent floods. We are confident that we will not have any issues this time either,\" said Sijapati.  The protestors vandalized the Tata car showroom in Thapathali.\n",
            "Predicted news category =  business\n"
          ]
        }
      ]
    },
    {
      "cell_type": "code",
      "source": [
        "# confusion matrix and classification report(precision, recall, F1-score)\n",
        "ytest = np.array(y_test)\n",
        "print(classification_report(ytest,model.predict(X_test)))\n",
        "print(confusion_matrix(ytest,model.predict(X_test)))"
      ],
      "metadata": {
        "id": "y24Ctjrm_rpj",
        "colab": {
          "base_uri": "https://localhost:8080/"
        },
        "outputId": "906304d8-166e-4c7a-948c-ce50fced46fb"
      },
      "execution_count": null,
      "outputs": [
        {
          "output_type": "stream",
          "name": "stdout",
          "text": [
            "               precision    recall  f1-score   support\n",
            "\n",
            "     business       0.99      0.99      0.99        81\n",
            "entertainment       0.96      1.00      0.98        45\n",
            "     politics       1.00      0.99      0.99        67\n",
            "        sport       1.00      1.00      1.00        83\n",
            "         tech       0.98      0.97      0.97        58\n",
            "\n",
            "     accuracy                           0.99       334\n",
            "    macro avg       0.99      0.99      0.99       334\n",
            " weighted avg       0.99      0.99      0.99       334\n",
            "\n",
            "[[80  0  0  0  1]\n",
            " [ 0 45  0  0  0]\n",
            " [ 0  1 66  0  0]\n",
            " [ 0  0  0 83  0]\n",
            " [ 1  1  0  0 56]]\n"
          ]
        }
      ]
    },
    {
      "cell_type": "code",
      "source": [
        "import matplotlib.pyplot as plt\n",
        "from sklearn.metrics import ConfusionMatrixDisplay\n",
        "cm = confusion_matrix(model.predict(X_test),ytest)\n",
        "# Change figure size and increase dpi for better resolution\n",
        "# and get reference to axes object\n",
        "fig, ax = plt.subplots(figsize=(8,8), dpi=100)\n",
        "class_names = ['business','entertainment','politics','sport','tech']\n",
        "# initialize using the raw 2D confusion matrix\n",
        "# and output labels (in our case, it's 0 and 1)\n",
        "display = ConfusionMatrixDisplay(cm, display_labels=class_names)\n",
        "\n",
        "# set the plot title using the axes object\n",
        "ax.set(title='Confusion Matrix for the  Text Classification Model')\n",
        "\n",
        "# show the plot.\n",
        "# Pass the parameter ax to show customizations (ex. title)\n",
        "display.plot(ax=ax);"
      ],
      "metadata": {
        "id": "0CoGLcdeMxjw",
        "colab": {
          "base_uri": "https://localhost:8080/",
          "height": 661
        },
        "outputId": "32d77f70-0604-4a6b-b328-e2bb94708a53"
      },
      "execution_count": null,
      "outputs": [
        {
          "output_type": "display_data",
          "data": {
            "text/plain": [
              "<Figure size 800x800 with 2 Axes>"
            ],
            "image/png": "[encoded data removed]"
          },
          "metadata": {}
        }
      ]
    },
    {
      "cell_type": "code",
      "source": [
        "# vectorizer.vocabulary_"
      ],
      "metadata": {
        "id": "XAp_K1xWslOW"
      },
      "execution_count": null,
      "outputs": []
    },
    {
      "cell_type": "code",
      "source": [],
      "metadata": {
        "id": "sFDNXYyKIyb_"
      },
      "execution_count": null,
      "outputs": []
    }
  ]
}